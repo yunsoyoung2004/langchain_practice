{
  "nbformat": 4,
  "nbformat_minor": 0,
  "metadata": {
    "colab": {
      "provenance": []
    },
    "kernelspec": {
      "name": "python3",
      "display_name": "Python 3"
    },
    "language_info": {
      "name": "python"
    }
  },
  "cells": [
    {
      "cell_type": "code",
      "execution_count": 1,
      "metadata": {
        "colab": {
          "base_uri": "https://localhost:8080/"
        },
        "id": "DZw5uKz7WfQ9",
        "outputId": "be256d8b-d487-4960-feec-0d1e7f7b06f5"
      },
      "outputs": [
        {
          "output_type": "stream",
          "name": "stdout",
          "text": [
            "Collecting langchain_openai\n",
            "  Downloading langchain_openai-0.2.11-py3-none-any.whl.metadata (2.7 kB)\n",
            "Collecting langgraph\n",
            "  Downloading langgraph-0.2.56-py3-none-any.whl.metadata (15 kB)\n",
            "Requirement already satisfied: langsmith in /usr/local/lib/python3.10/dist-packages (0.1.147)\n",
            "Collecting langchain_community\n",
            "  Downloading langchain_community-0.3.10-py3-none-any.whl.metadata (2.9 kB)\n",
            "Collecting httpx==0.27.2\n",
            "  Downloading httpx-0.27.2-py3-none-any.whl.metadata (7.1 kB)\n",
            "Requirement already satisfied: anyio in /usr/local/lib/python3.10/dist-packages (from httpx==0.27.2) (3.7.1)\n",
            "Requirement already satisfied: certifi in /usr/local/lib/python3.10/dist-packages (from httpx==0.27.2) (2024.8.30)\n",
            "Requirement already satisfied: httpcore==1.* in /usr/local/lib/python3.10/dist-packages (from httpx==0.27.2) (1.0.7)\n",
            "Requirement already satisfied: idna in /usr/local/lib/python3.10/dist-packages (from httpx==0.27.2) (3.10)\n",
            "Requirement already satisfied: sniffio in /usr/local/lib/python3.10/dist-packages (from httpx==0.27.2) (1.3.1)\n",
            "Requirement already satisfied: h11<0.15,>=0.13 in /usr/local/lib/python3.10/dist-packages (from httpcore==1.*->httpx==0.27.2) (0.14.0)\n",
            "Requirement already satisfied: langchain-core<0.4.0,>=0.3.21 in /usr/local/lib/python3.10/dist-packages (from langchain_openai) (0.3.21)\n",
            "Requirement already satisfied: openai<2.0.0,>=1.54.0 in /usr/local/lib/python3.10/dist-packages (from langchain_openai) (1.54.5)\n",
            "Collecting tiktoken<1,>=0.7 (from langchain_openai)\n",
            "  Downloading tiktoken-0.8.0-cp310-cp310-manylinux_2_17_x86_64.manylinux2014_x86_64.whl.metadata (6.6 kB)\n",
            "Collecting langgraph-checkpoint<3.0.0,>=2.0.4 (from langgraph)\n",
            "  Downloading langgraph_checkpoint-2.0.8-py3-none-any.whl.metadata (4.6 kB)\n",
            "Collecting langgraph-sdk<0.2.0,>=0.1.42 (from langgraph)\n",
            "  Downloading langgraph_sdk-0.1.43-py3-none-any.whl.metadata (1.8 kB)\n",
            "Requirement already satisfied: orjson<4.0.0,>=3.9.14 in /usr/local/lib/python3.10/dist-packages (from langsmith) (3.10.12)\n",
            "Requirement already satisfied: pydantic<3,>=1 in /usr/local/lib/python3.10/dist-packages (from langsmith) (2.10.3)\n",
            "Requirement already satisfied: requests<3,>=2 in /usr/local/lib/python3.10/dist-packages (from langsmith) (2.32.3)\n",
            "Requirement already satisfied: requests-toolbelt<2.0.0,>=1.0.0 in /usr/local/lib/python3.10/dist-packages (from langsmith) (1.0.0)\n",
            "Requirement already satisfied: PyYAML>=5.3 in /usr/local/lib/python3.10/dist-packages (from langchain_community) (6.0.2)\n",
            "Requirement already satisfied: SQLAlchemy<3,>=1.4 in /usr/local/lib/python3.10/dist-packages (from langchain_community) (2.0.36)\n",
            "Requirement already satisfied: aiohttp<4.0.0,>=3.8.3 in /usr/local/lib/python3.10/dist-packages (from langchain_community) (3.11.9)\n",
            "Collecting dataclasses-json<0.7,>=0.5.7 (from langchain_community)\n",
            "  Downloading dataclasses_json-0.6.7-py3-none-any.whl.metadata (25 kB)\n",
            "Collecting httpx-sse<0.5.0,>=0.4.0 (from langchain_community)\n",
            "  Downloading httpx_sse-0.4.0-py3-none-any.whl.metadata (9.0 kB)\n",
            "Collecting langchain<0.4.0,>=0.3.10 (from langchain_community)\n",
            "  Downloading langchain-0.3.10-py3-none-any.whl.metadata (7.1 kB)\n",
            "Collecting langchain-core<0.4.0,>=0.3.21 (from langchain_openai)\n",
            "  Downloading langchain_core-0.3.22-py3-none-any.whl.metadata (6.3 kB)\n",
            "Requirement already satisfied: numpy<2,>=1.22.4 in /usr/local/lib/python3.10/dist-packages (from langchain_community) (1.26.4)\n",
            "Collecting pydantic-settings<3.0.0,>=2.4.0 (from langchain_community)\n",
            "  Downloading pydantic_settings-2.6.1-py3-none-any.whl.metadata (3.5 kB)\n",
            "Requirement already satisfied: tenacity!=8.4.0,<10,>=8.1.0 in /usr/local/lib/python3.10/dist-packages (from langchain_community) (9.0.0)\n",
            "Requirement already satisfied: aiohappyeyeballs>=2.3.0 in /usr/local/lib/python3.10/dist-packages (from aiohttp<4.0.0,>=3.8.3->langchain_community) (2.4.4)\n",
            "Requirement already satisfied: aiosignal>=1.1.2 in /usr/local/lib/python3.10/dist-packages (from aiohttp<4.0.0,>=3.8.3->langchain_community) (1.3.1)\n",
            "Requirement already satisfied: async-timeout<6.0,>=4.0 in /usr/local/lib/python3.10/dist-packages (from aiohttp<4.0.0,>=3.8.3->langchain_community) (4.0.3)\n",
            "Requirement already satisfied: attrs>=17.3.0 in /usr/local/lib/python3.10/dist-packages (from aiohttp<4.0.0,>=3.8.3->langchain_community) (24.2.0)\n",
            "Requirement already satisfied: frozenlist>=1.1.1 in /usr/local/lib/python3.10/dist-packages (from aiohttp<4.0.0,>=3.8.3->langchain_community) (1.5.0)\n",
            "Requirement already satisfied: multidict<7.0,>=4.5 in /usr/local/lib/python3.10/dist-packages (from aiohttp<4.0.0,>=3.8.3->langchain_community) (6.1.0)\n",
            "Requirement already satisfied: propcache>=0.2.0 in /usr/local/lib/python3.10/dist-packages (from aiohttp<4.0.0,>=3.8.3->langchain_community) (0.2.1)\n",
            "Requirement already satisfied: yarl<2.0,>=1.17.0 in /usr/local/lib/python3.10/dist-packages (from aiohttp<4.0.0,>=3.8.3->langchain_community) (1.18.3)\n",
            "Collecting marshmallow<4.0.0,>=3.18.0 (from dataclasses-json<0.7,>=0.5.7->langchain_community)\n",
            "  Downloading marshmallow-3.23.1-py3-none-any.whl.metadata (7.5 kB)\n",
            "Collecting typing-inspect<1,>=0.4.0 (from dataclasses-json<0.7,>=0.5.7->langchain_community)\n",
            "  Downloading typing_inspect-0.9.0-py3-none-any.whl.metadata (1.5 kB)\n",
            "Requirement already satisfied: langchain-text-splitters<0.4.0,>=0.3.0 in /usr/local/lib/python3.10/dist-packages (from langchain<0.4.0,>=0.3.10->langchain_community) (0.3.2)\n",
            "Requirement already satisfied: jsonpatch<2.0,>=1.33 in /usr/local/lib/python3.10/dist-packages (from langchain-core<0.4.0,>=0.3.21->langchain_openai) (1.33)\n",
            "Requirement already satisfied: packaging<25,>=23.2 in /usr/local/lib/python3.10/dist-packages (from langchain-core<0.4.0,>=0.3.21->langchain_openai) (24.2)\n",
            "Requirement already satisfied: typing-extensions>=4.7 in /usr/local/lib/python3.10/dist-packages (from langchain-core<0.4.0,>=0.3.21->langchain_openai) (4.12.2)\n",
            "Requirement already satisfied: msgpack<2.0.0,>=1.1.0 in /usr/local/lib/python3.10/dist-packages (from langgraph-checkpoint<3.0.0,>=2.0.4->langgraph) (1.1.0)\n",
            "Requirement already satisfied: distro<2,>=1.7.0 in /usr/local/lib/python3.10/dist-packages (from openai<2.0.0,>=1.54.0->langchain_openai) (1.9.0)\n",
            "Requirement already satisfied: jiter<1,>=0.4.0 in /usr/local/lib/python3.10/dist-packages (from openai<2.0.0,>=1.54.0->langchain_openai) (0.8.0)\n",
            "Requirement already satisfied: tqdm>4 in /usr/local/lib/python3.10/dist-packages (from openai<2.0.0,>=1.54.0->langchain_openai) (4.66.6)\n",
            "Requirement already satisfied: exceptiongroup in /usr/local/lib/python3.10/dist-packages (from anyio->httpx==0.27.2) (1.2.2)\n",
            "Requirement already satisfied: annotated-types>=0.6.0 in /usr/local/lib/python3.10/dist-packages (from pydantic<3,>=1->langsmith) (0.7.0)\n",
            "Requirement already satisfied: pydantic-core==2.27.1 in /usr/local/lib/python3.10/dist-packages (from pydantic<3,>=1->langsmith) (2.27.1)\n",
            "Collecting python-dotenv>=0.21.0 (from pydantic-settings<3.0.0,>=2.4.0->langchain_community)\n",
            "  Downloading python_dotenv-1.0.1-py3-none-any.whl.metadata (23 kB)\n",
            "Requirement already satisfied: charset-normalizer<4,>=2 in /usr/local/lib/python3.10/dist-packages (from requests<3,>=2->langsmith) (3.4.0)\n",
            "Requirement already satisfied: urllib3<3,>=1.21.1 in /usr/local/lib/python3.10/dist-packages (from requests<3,>=2->langsmith) (2.2.3)\n",
            "Requirement already satisfied: greenlet!=0.4.17 in /usr/local/lib/python3.10/dist-packages (from SQLAlchemy<3,>=1.4->langchain_community) (3.1.1)\n",
            "Requirement already satisfied: regex>=2022.1.18 in /usr/local/lib/python3.10/dist-packages (from tiktoken<1,>=0.7->langchain_openai) (2024.9.11)\n",
            "Requirement already satisfied: jsonpointer>=1.9 in /usr/local/lib/python3.10/dist-packages (from jsonpatch<2.0,>=1.33->langchain-core<0.4.0,>=0.3.21->langchain_openai) (3.0.0)\n",
            "Collecting mypy-extensions>=0.3.0 (from typing-inspect<1,>=0.4.0->dataclasses-json<0.7,>=0.5.7->langchain_community)\n",
            "  Downloading mypy_extensions-1.0.0-py3-none-any.whl.metadata (1.1 kB)\n",
            "Downloading httpx-0.27.2-py3-none-any.whl (76 kB)\n",
            "\u001b[2K   \u001b[90m━━━━━━━━━━━━━━━━━━━━━━━━━━━━━━━━━━━━━━━━\u001b[0m \u001b[32m76.4/76.4 kB\u001b[0m \u001b[31m2.1 MB/s\u001b[0m eta \u001b[36m0:00:00\u001b[0m\n",
            "\u001b[?25hDownloading langchain_openai-0.2.11-py3-none-any.whl (50 kB)\n",
            "\u001b[2K   \u001b[90m━━━━━━━━━━━━━━━━━━━━━━━━━━━━━━━━━━━━━━━━\u001b[0m \u001b[32m50.7/50.7 kB\u001b[0m \u001b[31m1.7 MB/s\u001b[0m eta \u001b[36m0:00:00\u001b[0m\n",
            "\u001b[?25hDownloading langgraph-0.2.56-py3-none-any.whl (126 kB)\n",
            "\u001b[2K   \u001b[90m━━━━━━━━━━━━━━━━━━━━━━━━━━━━━━━━━━━━━━━━\u001b[0m \u001b[32m126.8/126.8 kB\u001b[0m \u001b[31m4.5 MB/s\u001b[0m eta \u001b[36m0:00:00\u001b[0m\n",
            "\u001b[?25hDownloading langchain_community-0.3.10-py3-none-any.whl (2.4 MB)\n",
            "\u001b[2K   \u001b[90m━━━━━━━━━━━━━━━━━━━━━━━━━━━━━━━━━━━━━━━━\u001b[0m \u001b[32m2.4/2.4 MB\u001b[0m \u001b[31m26.1 MB/s\u001b[0m eta \u001b[36m0:00:00\u001b[0m\n",
            "\u001b[?25hDownloading dataclasses_json-0.6.7-py3-none-any.whl (28 kB)\n",
            "Downloading httpx_sse-0.4.0-py3-none-any.whl (7.8 kB)\n",
            "Downloading langchain-0.3.10-py3-none-any.whl (1.0 MB)\n",
            "\u001b[2K   \u001b[90m━━━━━━━━━━━━━━━━━━━━━━━━━━━━━━━━━━━━━━━━\u001b[0m \u001b[32m1.0/1.0 MB\u001b[0m \u001b[31m22.9 MB/s\u001b[0m eta \u001b[36m0:00:00\u001b[0m\n",
            "\u001b[?25hDownloading langchain_core-0.3.22-py3-none-any.whl (409 kB)\n",
            "\u001b[2K   \u001b[90m━━━━━━━━━━━━━━━━━━━━━━━━━━━━━━━━━━━━━━━━\u001b[0m \u001b[32m409.7/409.7 kB\u001b[0m \u001b[31m14.7 MB/s\u001b[0m eta \u001b[36m0:00:00\u001b[0m\n",
            "\u001b[?25hDownloading langgraph_checkpoint-2.0.8-py3-none-any.whl (35 kB)\n",
            "Downloading langgraph_sdk-0.1.43-py3-none-any.whl (31 kB)\n",
            "Downloading pydantic_settings-2.6.1-py3-none-any.whl (28 kB)\n",
            "Downloading tiktoken-0.8.0-cp310-cp310-manylinux_2_17_x86_64.manylinux2014_x86_64.whl (1.2 MB)\n",
            "\u001b[2K   \u001b[90m━━━━━━━━━━━━━━━━━━━━━━━━━━━━━━━━━━━━━━━━\u001b[0m \u001b[32m1.2/1.2 MB\u001b[0m \u001b[31m14.2 MB/s\u001b[0m eta \u001b[36m0:00:00\u001b[0m\n",
            "\u001b[?25hDownloading marshmallow-3.23.1-py3-none-any.whl (49 kB)\n",
            "\u001b[2K   \u001b[90m━━━━━━━━━━━━━━━━━━━━━━━━━━━━━━━━━━━━━━━━\u001b[0m \u001b[32m49.5/49.5 kB\u001b[0m \u001b[31m2.0 MB/s\u001b[0m eta \u001b[36m0:00:00\u001b[0m\n",
            "\u001b[?25hDownloading python_dotenv-1.0.1-py3-none-any.whl (19 kB)\n",
            "Downloading typing_inspect-0.9.0-py3-none-any.whl (8.8 kB)\n",
            "Downloading mypy_extensions-1.0.0-py3-none-any.whl (4.7 kB)\n",
            "Installing collected packages: python-dotenv, mypy-extensions, marshmallow, httpx-sse, typing-inspect, tiktoken, httpx, pydantic-settings, langgraph-sdk, dataclasses-json, langchain-core, langgraph-checkpoint, langchain_openai, langgraph, langchain, langchain_community\n",
            "  Attempting uninstall: httpx\n",
            "    Found existing installation: httpx 0.28.0\n",
            "    Uninstalling httpx-0.28.0:\n",
            "      Successfully uninstalled httpx-0.28.0\n",
            "  Attempting uninstall: langchain-core\n",
            "    Found existing installation: langchain-core 0.3.21\n",
            "    Uninstalling langchain-core-0.3.21:\n",
            "      Successfully uninstalled langchain-core-0.3.21\n",
            "  Attempting uninstall: langchain\n",
            "    Found existing installation: langchain 0.3.9\n",
            "    Uninstalling langchain-0.3.9:\n",
            "      Successfully uninstalled langchain-0.3.9\n",
            "Successfully installed dataclasses-json-0.6.7 httpx-0.27.2 httpx-sse-0.4.0 langchain-0.3.10 langchain-core-0.3.22 langchain_community-0.3.10 langchain_openai-0.2.11 langgraph-0.2.56 langgraph-checkpoint-2.0.8 langgraph-sdk-0.1.43 marshmallow-3.23.1 mypy-extensions-1.0.0 pydantic-settings-2.6.1 python-dotenv-1.0.1 tiktoken-0.8.0 typing-inspect-0.9.0\n"
          ]
        }
      ],
      "source": [
        "!pip install langchain_openai langgraph langsmith langchain_community \"httpx==0.27.2\""
      ]
    },
    {
      "cell_type": "code",
      "source": [
        "from langchain_openai import ChatOpenAI\n",
        "from langchain_core.prompts import ChatPromptTemplate\n",
        "from langchain_core.output_parsers import StrOutputParser\n",
        "from langsmith import Client\n",
        "import os\n",
        "os.environ[\"LANGCHAIN_TRACING_V2\"] = \"true\"\n",
        "os.environ[\"LANGCHAIN_API_KEY\"] = \"lsv2\"\n",
        "\n",
        "os.environ[\"OPENAI_API_KEY\"] = \"sk\""
      ],
      "metadata": {
        "id": "7Rusy9_hXNn5"
      },
      "execution_count": 2,
      "outputs": []
    },
    {
      "cell_type": "code",
      "source": [
        "prompt = ChatPromptTemplate.from_messages(\n",
        "    [\n",
        "        (\"system\", \"당신은 질문에 답변하는 봇입니다\"),\n",
        "        (\"user\", \"Question:{question}\\nContext:{context}\")\n",
        "    ]\n",
        ") # 대화형 템플릿 정의"
      ],
      "metadata": {
        "id": "HfMMY36MXVEQ"
      },
      "execution_count": 4,
      "outputs": []
    },
    {
      "cell_type": "code",
      "source": [
        "model = ChatOpenAI(model=\"gpt-4o\")\n",
        "output_parser = StrOutputParser() # 출력을 파싱(구문 분석)하여 특정 형식으로 변환\n",
        "chain = prompt | model | output_parser  # 프롬프트 → 모델 → 출력 파서로 이어지는 작업 흐름을 정의"
      ],
      "metadata": {
        "id": "VYsnsdvmXVI0"
      },
      "execution_count": 5,
      "outputs": []
    },
    {
      "cell_type": "code",
      "source": [
        "question = [\"AI Agent란?\", \"AI Agent의 역할은?\", \"AI Agent 사용 방법은?\"]\n",
        "context = \"\" # 질문과 관련된 추가 정보를 제공하기 위한 변수로 공란(\"\")로 두었기 때문에 특정 맥락 정보가 없는 상태를 나타냅니다"
      ],
      "metadata": {
        "id": "DKkNfQmvYhg7"
      },
      "execution_count": 6,
      "outputs": []
    },
    {
      "cell_type": "code",
      "source": [
        "for q in question: # question 리스트에 포함된 질문들을 순회하며 하나씩 처리\n",
        "    print(chain.invoke({\"question\": q, \"context\": context})) # 입력 데이터(질의)를 처리\n",
        "    print(\"\\n\")"
      ],
      "metadata": {
        "colab": {
          "base_uri": "https://localhost:8080/"
        },
        "id": "CPLB6y9vY__g",
        "outputId": "20c8859e-059d-4f8f-a081-a96792189e8c"
      },
      "execution_count": null,
      "outputs": [
        {
          "output_type": "stream",
          "name": "stdout",
          "text": [
            "AI 에이전트란 인공지능 기술을 활용하여 특정 작업이나 문제를 해결하도록 설계된 소프트웨어 프로그램이나 시스템을 말합니다. AI 에이전트는 주어진 환경 내에서 데이터를 수집하고, 이를 바탕으로 의사 결정을 내리며, 그 결과에 따라 행동을 수행합니다. 이러한 에이전트는 종종 머신러닝 알고리즘을 사용하여 학습하고 적응하며, 자동화된 방식으로 작업을 수행할 수 있습니다.\n",
            "\n",
            "AI 에이전트는 다양한 형태로 존재할 수 있으며, 챗봇, 가상 비서, 자율 주행 차량, 게임 캐릭터, 로봇 등이 그 예입니다. 이들은 모두 특정 목표를 달성하기 위해 사용자와 상호작용하거나 환경을 탐색하면서 지속적으로 학습하고 최적의 결과를 추구하도록 설계되었습니다.\n",
            "\n",
            "\n",
            "AI 에이전트의 역할은 여러 가지가 있으며, 이는 주로 해당 에이전트가 설계된 목적과 사용되는 분야에 따라 달라집니다. 일반적인 AI 에이전트의 역할은 다음과 같습니다:\n",
            "\n",
            "1. **자동화**: 반복적이거나 시간이 많이 소요되는 작업을 자동화하여 인간의 부담을 줄입니다. 예를 들어, 챗봇은 고객 서비스에서 사용되어 간단한 문의를 처리합니다.\n",
            "\n",
            "2. **데이터 분석**: 대량의 데이터를 분석하여 패턴을 찾고, 이를 기반으로 예측이나 의사 결정을 지원합니다. 예를 들어, 금융 분야에서는 거래 데이터를 분석하여 투자 전략을 수립합니다.\n",
            "\n",
            "3. **추천 시스템**: 사용자 행동을 분석하여 개인화된 추천을 제공합니다. 예를 들어, 온라인 쇼핑몰이나 스트리밍 서비스에서 사용자에게 맞춤형 콘텐츠를 추천합니다.\n",
            "\n",
            "4. **의사 결정 지원**: 복잡한 시나리오에서 최적의 결정을 내릴 수 있도록 지원합니다. 예를 들어, 의료 분야에서는 환자의 증상과 기록을 분석하여 진단을 돕습니다.\n",
            "\n",
            "5. **로봇 및 자율 시스템**: 물리적 환경에서 작업을 수행하거나 자율적으로 움직이는 시스템을 운영합니다. 예를 들어, 자율주행차나 로봇 청소기 등이 있습니다.\n",
            "\n",
            "6. **창의적 작업**: 예술, 음악, 글쓰기 등 창의적인 분야에서 새로운 작품을 생성하거나 아이디어를 제안합니다.\n",
            "\n",
            "이외에도 AI 에이전트는 교육, 보안, 헬스케어 등 다양한 분야에서 특정한 역할과 기능을 수행할 수 있습니다. AI 에이전트의 목표는 일반적으로 인간의 능력을 보완하거나 향상시키고, 효율성을 높이기 위한 것입니다.\n",
            "\n",
            "\n",
            "AI 에이전트를 사용하는 방법은 특정 에이전트의 유형과 목적에 따라 다를 수 있지만, 일반적인 단계는 다음과 같습니다:\n",
            "\n",
            "1. **목적 정의**: 무엇을 달성하고자 하는지를 명확히 설정합니다. 예를 들어, 고객 서비스, 데이터 분석, 자동화된 작업 등.\n",
            "\n",
            "2. **적절한 AI 에이전트 선택**: 목적에 맞는 AI 에이전트를 선택합니다. 상용 솔루션이나 오픈소스 옵션이 있으며, 특정 작업에 특화된 에이전트도 있습니다.\n",
            "\n",
            "3. **설치 및 설정**: 선택한 AI 에이전트를 설치하고 초기 설정을 합니다. 이는 소프트웨어 설치, 환경 설정, 권한 부여 등을 포함할 수 있습니다.\n",
            "\n",
            "4. **데이터 준비**: AI 에이전트가 학습하고 작업을 수행할 수 있도록 필요한 데이터를 준비합니다. 데이터가 충분하고 품질이 높은지 확인하는 것이 중요합니다.\n",
            "\n",
            "5. **학습 및 훈련**: AI 에이전트가 데이터를 기반으로 학습할 수 있도록 훈련합니다. 이는 모델을 학습시키는 과정으로, 사용자 정의 모델을 개발해야 하는 경우도 있을 수 있습니다.\n",
            "\n",
            "6. **테스트 및 검증**: AI 에이전트의 성능을 테스트하고, 결과가 기대에 부합하는지 검증합니다. 필요시 조정을 통해 성능을 개선합니다.\n",
            "\n",
            "7. **배포**: AI 에이전트를 실사용 환경에 배포합니다. 이는 시스템과의 통합, 사용자 접근성 확보 등을 포함할 수 있습니다.\n",
            "\n",
            "8. **모니터링 및 유지보수**: 에이전트가 올바르게 작동하는지 지속적으로 모니터링하고, 필요할 경우 업데이트 및 유지보수를 수행합니다.\n",
            "\n",
            "9. **피드백 및 개선**: 사용자 피드백을 받아 지속적으로 에이전트를 개선합니다. 새로운 데이터와 요구사항에 맞춰 업데이트를 반복합니다.\n",
            "\n",
            "이 과정은 AI 에이전트의 복잡성과 적용 분야에 따라 다소 달라질 수 있지만, 일반적으로 이러한 단계들이 포함됩니다.\n",
            "\n",
            "\n"
          ]
        }
      ]
    },
    {
      "cell_type": "code",
      "source": [
        "correct_answers = (\n",
        "\"AI Agent란 인공지능 시스템에서 자율적으로 특정 작업을 수행할 수 있는 소프트웨어 엔티티를 의미합니다. AI 에이전트는 주어진 환경에서 다양한 입력을 받아들이고, 이러한 입력을 바탕으로 특정 목표를 달성하기 위해 행동을 결정하고 실행합니다. 이러한 에이전트는 머신러닝 알고리즘, 특히 강화학습을 통해 환경과의 상호작용에서 학습할 수 있습니다. AI 에이전트는 다음과 같은 특성을 가질 수 있습니다: 1. **자율성**: 인간의 개입 없이 스스로 결정을 내리고 행동할 수 있습니다. 2. **적응성**: 환경의 변화에 따라 행동 방식을 조정할 수 있습니다. 3. **상호작용성**: 주어진 환경이나 다른 에이전트와 상호작용할 수 있습니다. 4. **목표 지향성**: 특정 목표를 달성하기 위해 설계됩니다. AI 에이전트는 다양한 분야에서 사용될 수 있으며, 예를 들어 자동화된 고객 서비스, 게임에서의 NPC(Non-Player Character), 로봇 공학, 자율 주행 차량 등이 포함됩니다.\",\n",
        "\"AI 에이전트의 역할은 다양한 분야와 상황에서 다양하게 적용될 수 있습니다. 일반적인 AI 에이전트의 역할은 다음과 같습니다: 1. **자동화**: 반복적이거나 시간이 많이 소요되는 작업을 자동화하여 인간의 시간을 절약합니다. 예를 들어, 데이터 입력, 일정 관리, 고객 서비스 등에서 사용됩니다. 2. **정보 처리 및 분석**: 대량의 데이터를 빠르게 처리하고 분석하여 유용한 인사이트를 제공합니다. 이는 비즈니스 인텔리전스, 의료 진단, 금융 분석 등에서 활용됩니다. 3. **의사 결정 지원**: 복잡한 문제에 대한 최적의 결정을 내리는 데 도움을 줍니다. 예를 들어, 추천 시스템, 투자 전략, 물류 최적화에 사용됩니다. 4. **자연어 처리**: 인간의 언어를 이해하고 처리하여 대화형 인터페이스를 제공합니다. 챗봇, 가상 비서, 번역 서비스 등이 이에 해당합니다. 5. **예측 및 예보**: 기계 학습 알고리즘을 사용하여 미래의 트렌드나 이벤트를 예측합니다. 이는 날씨 예보, 시장 예측, 수요 예측에 사용됩니다. 6. **문제 해결**: 복잡한 문제를 해결하기 위한 솔루션을 개발합니다. 이는 로봇 공학, 게임 AI, 최적화 문제 해결에서 활용됩니다. 이러한 역할들은 AI 에이전트가 특정 도메인에 맞춰 조정될 수 있으며, 기술의 발전에 따라 그 범위와 능력은 계속해서 확장되고 있습니다.\",\n",
        "\"AI 에이전트를 사용하는 방법은 주로 사용하려는 에이전트의 종류와 목적에 따라 다릅니다. 그러나 일반적으로 AI 에이전트를 사용하는 기본적인 단계는 다음과 같습니다: 1. **목적 정의**: AI 에이전트를 사용하여 해결하려는 문제나 달성하려는 목표를 명확히 정의합니다. 예를 들어, 고객 서비스 자동화, 데이터 분석, 개인 비서 역할 등이 있을 수 있습니다. 2. **적절한 AI 에이전트 선택**: 다양한 AI 플랫폼과 도구가 있습니다. Google Assistant, Amazon Alexa, Microsoft Azure Bot, IBM Watson 등 다양한 에이전트를 비교하여 목적에 맞는 것을 선택합니다. 3. **설정 및 구성**: 에이전트를 선택한 후, 자신의 필요에 맞게 설정하고 구성합니다. 이 단계에서는 주로 에이전트의 언어, 대화 흐름, 사용자 인터페이스 등을 설정합니다. 4. **데이터 수집 및 학습**: 많은 AI 에이전트는 특정한 데이터 세트로 학습하여 더 나은 성능을 발휘합니다. 필요한 데이터를 수집하고, 에이전트가 학습할 수 있도록 준비합니다. 5. **통합 및 테스트**: 에이전트를 기존 시스템이나 애플리케이션과 통합합니다. 통합 후에는 다양한 시나리오를 통해 에이전트를 테스트하고, 예상치 못한 문제나 오류를 수정합니다. 6. **배포 및 모니터링**: 최종적으로 에이전트를 실제 환경에 배포합니다. 배포 후에는 성능을 지속적으로 모니터링하고, 필요에 따라 업데이트나 개선 작업을 수행합니다. 7. **피드백 및 개선**: 사용자로부터 피드백을 받아 에이전트를 개선합니다. 이는 에이전트를 더 효율적이고 사용자 친화적으로 만드는 데 도움이 됩니다. 각 단계에서 사용할 수 있는 도구와 방법은 다양하므로, 사용하려는 에이전트의 문서나 가이드를 참고하는 것이 좋습니다.\"\n",
        ")"
      ],
      "metadata": {
        "id": "Jn872MCMZNKT"
      },
      "execution_count": null,
      "outputs": []
    },
    {
      "cell_type": "code",
      "source": [
        "client = Client() # client 초기화"
      ],
      "metadata": {
        "id": "1H8wvT7Ibwsr"
      },
      "execution_count": null,
      "outputs": []
    },
    {
      "cell_type": "code",
      "source": [
        "inputs = [\n",
        "    (question[0], correct_answers[0]),\n",
        "    (question[1], correct_answers[1]),\n",
        "    (question[2], correct_answers[2])\n",
        "] # 질문-정답 쌍 생성\n",
        "\n",
        "dataset_name = \"qanda\" # 데이터셋의 이름을 지정\n",
        "dataset = client.create_dataset(\n",
        "    dataset_name=dataset_name, description=\"Questions and Answers\",\n",
        ") # 랭스미스 클라이언트를 사용해 새로운 데이터셋을 생성\n",
        "\n",
        "for input_prompt, output_answer in inputs:\n",
        "  client.create_example(\n",
        "      inputs={\"question\": input_prompt},\n",
        "      outputs={\"answer\": output_answer},\n",
        "      dataset_id=dataset.id\n",
        "  ) # 랭스미스 클라이언트를 사용해 데이터셋에 새로운 예제(앞에서 생성한 '질문-정답 쌍')를 추가"
      ],
      "metadata": {
        "id": "UtfKnV5Zh9Ib"
      },
      "execution_count": null,
      "outputs": []
    },
    {
      "cell_type": "code",
      "source": [],
      "metadata": {
        "id": "X9cWaIi9iuXF"
      },
      "execution_count": null,
      "outputs": []
    }
  ]
}