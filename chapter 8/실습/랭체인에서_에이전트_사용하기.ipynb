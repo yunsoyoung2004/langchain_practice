{
  "nbformat": 4,
  "nbformat_minor": 0,
  "metadata": {
    "colab": {
      "provenance": []
    },
    "kernelspec": {
      "name": "python3",
      "display_name": "Python 3"
    },
    "language_info": {
      "name": "python"
    }
  },
  "cells": [
    {
      "cell_type": "code",
      "execution_count": 1,
      "metadata": {
        "colab": {
          "base_uri": "https://localhost:8080/"
        },
        "id": "mzJURCUDJWcg",
        "outputId": "cf9c7dfb-1033-4ae4-a08a-ad942ade3935"
      },
      "outputs": [
        {
          "output_type": "stream",
          "name": "stdout",
          "text": [
            "Requirement already satisfied: langchain in /usr/local/lib/python3.11/dist-packages (0.3.16)\n",
            "Requirement already satisfied: openai in /usr/local/lib/python3.11/dist-packages (1.59.9)\n",
            "Collecting wikipedia\n",
            "  Downloading wikipedia-1.4.0.tar.gz (27 kB)\n",
            "  Preparing metadata (setup.py) ... \u001b[?25l\u001b[?25hdone\n",
            "Collecting langchain-community\n",
            "  Downloading langchain_community-0.3.16-py3-none-any.whl.metadata (2.9 kB)\n",
            "Collecting httpx==0.27.2\n",
            "  Downloading httpx-0.27.2-py3-none-any.whl.metadata (7.1 kB)\n",
            "Requirement already satisfied: anyio in /usr/local/lib/python3.11/dist-packages (from httpx==0.27.2) (3.7.1)\n",
            "Requirement already satisfied: certifi in /usr/local/lib/python3.11/dist-packages (from httpx==0.27.2) (2024.12.14)\n",
            "Requirement already satisfied: httpcore==1.* in /usr/local/lib/python3.11/dist-packages (from httpx==0.27.2) (1.0.7)\n",
            "Requirement already satisfied: idna in /usr/local/lib/python3.11/dist-packages (from httpx==0.27.2) (3.10)\n",
            "Requirement already satisfied: sniffio in /usr/local/lib/python3.11/dist-packages (from httpx==0.27.2) (1.3.1)\n",
            "Requirement already satisfied: h11<0.15,>=0.13 in /usr/local/lib/python3.11/dist-packages (from httpcore==1.*->httpx==0.27.2) (0.14.0)\n",
            "Requirement already satisfied: PyYAML>=5.3 in /usr/local/lib/python3.11/dist-packages (from langchain) (6.0.2)\n",
            "Requirement already satisfied: SQLAlchemy<3,>=1.4 in /usr/local/lib/python3.11/dist-packages (from langchain) (2.0.37)\n",
            "Requirement already satisfied: aiohttp<4.0.0,>=3.8.3 in /usr/local/lib/python3.11/dist-packages (from langchain) (3.11.11)\n",
            "Requirement already satisfied: langchain-core<0.4.0,>=0.3.32 in /usr/local/lib/python3.11/dist-packages (from langchain) (0.3.32)\n",
            "Requirement already satisfied: langchain-text-splitters<0.4.0,>=0.3.3 in /usr/local/lib/python3.11/dist-packages (from langchain) (0.3.5)\n",
            "Requirement already satisfied: langsmith<0.4,>=0.1.17 in /usr/local/lib/python3.11/dist-packages (from langchain) (0.3.2)\n",
            "Requirement already satisfied: numpy<2,>=1.22.4 in /usr/local/lib/python3.11/dist-packages (from langchain) (1.26.4)\n",
            "Requirement already satisfied: pydantic<3.0.0,>=2.7.4 in /usr/local/lib/python3.11/dist-packages (from langchain) (2.10.6)\n",
            "Requirement already satisfied: requests<3,>=2 in /usr/local/lib/python3.11/dist-packages (from langchain) (2.32.3)\n",
            "Requirement already satisfied: tenacity!=8.4.0,<10,>=8.1.0 in /usr/local/lib/python3.11/dist-packages (from langchain) (9.0.0)\n",
            "Requirement already satisfied: distro<2,>=1.7.0 in /usr/local/lib/python3.11/dist-packages (from openai) (1.9.0)\n",
            "Requirement already satisfied: jiter<1,>=0.4.0 in /usr/local/lib/python3.11/dist-packages (from openai) (0.8.2)\n",
            "Requirement already satisfied: tqdm>4 in /usr/local/lib/python3.11/dist-packages (from openai) (4.67.1)\n",
            "Requirement already satisfied: typing-extensions<5,>=4.11 in /usr/local/lib/python3.11/dist-packages (from openai) (4.12.2)\n",
            "Requirement already satisfied: beautifulsoup4 in /usr/local/lib/python3.11/dist-packages (from wikipedia) (4.12.3)\n",
            "Collecting dataclasses-json<0.7,>=0.5.7 (from langchain-community)\n",
            "  Downloading dataclasses_json-0.6.7-py3-none-any.whl.metadata (25 kB)\n",
            "Collecting httpx-sse<0.5.0,>=0.4.0 (from langchain-community)\n",
            "  Downloading httpx_sse-0.4.0-py3-none-any.whl.metadata (9.0 kB)\n",
            "Collecting pydantic-settings<3.0.0,>=2.4.0 (from langchain-community)\n",
            "  Downloading pydantic_settings-2.7.1-py3-none-any.whl.metadata (3.5 kB)\n",
            "Requirement already satisfied: aiohappyeyeballs>=2.3.0 in /usr/local/lib/python3.11/dist-packages (from aiohttp<4.0.0,>=3.8.3->langchain) (2.4.4)\n",
            "Requirement already satisfied: aiosignal>=1.1.2 in /usr/local/lib/python3.11/dist-packages (from aiohttp<4.0.0,>=3.8.3->langchain) (1.3.2)\n",
            "Requirement already satisfied: attrs>=17.3.0 in /usr/local/lib/python3.11/dist-packages (from aiohttp<4.0.0,>=3.8.3->langchain) (25.1.0)\n",
            "Requirement already satisfied: frozenlist>=1.1.1 in /usr/local/lib/python3.11/dist-packages (from aiohttp<4.0.0,>=3.8.3->langchain) (1.5.0)\n",
            "Requirement already satisfied: multidict<7.0,>=4.5 in /usr/local/lib/python3.11/dist-packages (from aiohttp<4.0.0,>=3.8.3->langchain) (6.1.0)\n",
            "Requirement already satisfied: propcache>=0.2.0 in /usr/local/lib/python3.11/dist-packages (from aiohttp<4.0.0,>=3.8.3->langchain) (0.2.1)\n",
            "Requirement already satisfied: yarl<2.0,>=1.17.0 in /usr/local/lib/python3.11/dist-packages (from aiohttp<4.0.0,>=3.8.3->langchain) (1.18.3)\n",
            "Collecting marshmallow<4.0.0,>=3.18.0 (from dataclasses-json<0.7,>=0.5.7->langchain-community)\n",
            "  Downloading marshmallow-3.26.0-py3-none-any.whl.metadata (7.3 kB)\n",
            "Collecting typing-inspect<1,>=0.4.0 (from dataclasses-json<0.7,>=0.5.7->langchain-community)\n",
            "  Downloading typing_inspect-0.9.0-py3-none-any.whl.metadata (1.5 kB)\n",
            "Requirement already satisfied: jsonpatch<2.0,>=1.33 in /usr/local/lib/python3.11/dist-packages (from langchain-core<0.4.0,>=0.3.32->langchain) (1.33)\n",
            "Requirement already satisfied: packaging<25,>=23.2 in /usr/local/lib/python3.11/dist-packages (from langchain-core<0.4.0,>=0.3.32->langchain) (24.2)\n",
            "Requirement already satisfied: orjson<4.0.0,>=3.9.14 in /usr/local/lib/python3.11/dist-packages (from langsmith<0.4,>=0.1.17->langchain) (3.10.15)\n",
            "Requirement already satisfied: requests-toolbelt<2.0.0,>=1.0.0 in /usr/local/lib/python3.11/dist-packages (from langsmith<0.4,>=0.1.17->langchain) (1.0.0)\n",
            "Requirement already satisfied: zstandard<0.24.0,>=0.23.0 in /usr/local/lib/python3.11/dist-packages (from langsmith<0.4,>=0.1.17->langchain) (0.23.0)\n",
            "Requirement already satisfied: annotated-types>=0.6.0 in /usr/local/lib/python3.11/dist-packages (from pydantic<3.0.0,>=2.7.4->langchain) (0.7.0)\n",
            "Requirement already satisfied: pydantic-core==2.27.2 in /usr/local/lib/python3.11/dist-packages (from pydantic<3.0.0,>=2.7.4->langchain) (2.27.2)\n",
            "Collecting python-dotenv>=0.21.0 (from pydantic-settings<3.0.0,>=2.4.0->langchain-community)\n",
            "  Downloading python_dotenv-1.0.1-py3-none-any.whl.metadata (23 kB)\n",
            "Requirement already satisfied: charset-normalizer<4,>=2 in /usr/local/lib/python3.11/dist-packages (from requests<3,>=2->langchain) (3.4.1)\n",
            "Requirement already satisfied: urllib3<3,>=1.21.1 in /usr/local/lib/python3.11/dist-packages (from requests<3,>=2->langchain) (2.3.0)\n",
            "Requirement already satisfied: greenlet!=0.4.17 in /usr/local/lib/python3.11/dist-packages (from SQLAlchemy<3,>=1.4->langchain) (3.1.1)\n",
            "Requirement already satisfied: soupsieve>1.2 in /usr/local/lib/python3.11/dist-packages (from beautifulsoup4->wikipedia) (2.6)\n",
            "Requirement already satisfied: jsonpointer>=1.9 in /usr/local/lib/python3.11/dist-packages (from jsonpatch<2.0,>=1.33->langchain-core<0.4.0,>=0.3.32->langchain) (3.0.0)\n",
            "Collecting mypy-extensions>=0.3.0 (from typing-inspect<1,>=0.4.0->dataclasses-json<0.7,>=0.5.7->langchain-community)\n",
            "  Downloading mypy_extensions-1.0.0-py3-none-any.whl.metadata (1.1 kB)\n",
            "Downloading httpx-0.27.2-py3-none-any.whl (76 kB)\n",
            "\u001b[2K   \u001b[90m━━━━━━━━━━━━━━━━━━━━━━━━━━━━━━━━━━━━━━━━\u001b[0m \u001b[32m76.4/76.4 kB\u001b[0m \u001b[31m2.7 MB/s\u001b[0m eta \u001b[36m0:00:00\u001b[0m\n",
            "\u001b[?25hDownloading langchain_community-0.3.16-py3-none-any.whl (2.5 MB)\n",
            "\u001b[2K   \u001b[90m━━━━━━━━━━━━━━━━━━━━━━━━━━━━━━━━━━━━━━━━\u001b[0m \u001b[32m2.5/2.5 MB\u001b[0m \u001b[31m17.5 MB/s\u001b[0m eta \u001b[36m0:00:00\u001b[0m\n",
            "\u001b[?25hDownloading dataclasses_json-0.6.7-py3-none-any.whl (28 kB)\n",
            "Downloading httpx_sse-0.4.0-py3-none-any.whl (7.8 kB)\n",
            "Downloading pydantic_settings-2.7.1-py3-none-any.whl (29 kB)\n",
            "Downloading marshmallow-3.26.0-py3-none-any.whl (50 kB)\n",
            "\u001b[2K   \u001b[90m━━━━━━━━━━━━━━━━━━━━━━━━━━━━━━━━━━━━━━━━\u001b[0m \u001b[32m50.8/50.8 kB\u001b[0m \u001b[31m1.3 MB/s\u001b[0m eta \u001b[36m0:00:00\u001b[0m\n",
            "\u001b[?25hDownloading python_dotenv-1.0.1-py3-none-any.whl (19 kB)\n",
            "Downloading typing_inspect-0.9.0-py3-none-any.whl (8.8 kB)\n",
            "Downloading mypy_extensions-1.0.0-py3-none-any.whl (4.7 kB)\n",
            "Building wheels for collected packages: wikipedia\n",
            "  Building wheel for wikipedia (setup.py) ... \u001b[?25l\u001b[?25hdone\n",
            "  Created wheel for wikipedia: filename=wikipedia-1.4.0-py3-none-any.whl size=11679 sha256=017efc0a0b332a36de9d679dd1cea7b2c4aebc941e5dd4931c96fb5664fc8d75\n",
            "  Stored in directory: /root/.cache/pip/wheels/8f/ab/cb/45ccc40522d3a1c41e1d2ad53b8f33a62f394011ec38cd71c6\n",
            "Successfully built wikipedia\n",
            "Installing collected packages: python-dotenv, mypy-extensions, marshmallow, httpx-sse, wikipedia, typing-inspect, httpx, pydantic-settings, dataclasses-json, langchain-community\n",
            "  Attempting uninstall: httpx\n",
            "    Found existing installation: httpx 0.28.1\n",
            "    Uninstalling httpx-0.28.1:\n",
            "      Successfully uninstalled httpx-0.28.1\n",
            "Successfully installed dataclasses-json-0.6.7 httpx-0.27.2 httpx-sse-0.4.0 langchain-community-0.3.16 marshmallow-3.26.0 mypy-extensions-1.0.0 pydantic-settings-2.7.1 python-dotenv-1.0.1 typing-inspect-0.9.0 wikipedia-1.4.0\n"
          ]
        }
      ],
      "source": [
        "!pip install langchain openai wikipedia langchain-community \"httpx==0.27.2\""
      ]
    },
    {
      "cell_type": "code",
      "source": [
        "import os\n",
        "from langchain.chat_models import ChatOpenAI\n",
        "os.environ[\"OPENAI_API_KEY\"] = \"sk\" # sk-로 시작하는 API 키를 입력하세요\n",
        "\n",
        "llm = ChatOpenAI(model=\"gpt-4o-2024-11-20\")"
      ],
      "metadata": {
        "id": "ao35vlRiJjSs",
        "colab": {
          "base_uri": "https://localhost:8080/"
        },
        "outputId": "e6cc209a-e442-4d54-c7ef-8d779b2e1b07"
      },
      "execution_count": 2,
      "outputs": [
        {
          "output_type": "stream",
          "name": "stderr",
          "text": [
            "<ipython-input-2-dd90825fc03e>:5: LangChainDeprecationWarning: The class `ChatOpenAI` was deprecated in LangChain 0.0.10 and will be removed in 1.0. An updated version of the class exists in the :class:`~langchain-openai package and should be used instead. To use it run `pip install -U :class:`~langchain-openai` and import as `from :class:`~langchain_openai import ChatOpenAI``.\n",
            "  llm = ChatOpenAI(model=\"gpt-4o-2024-11-20\")\n"
          ]
        }
      ]
    },
    {
      "cell_type": "code",
      "source": [
        "#제로샷 ReAct 에이전트\n",
        "from langchain.agents import initialize_agent, load_tools, AgentType\n",
        "tools = load_tools([\"wikipedia\", \"llm-math\"], llm=llm)"
      ],
      "metadata": {
        "id": "RXcTlqftJjVt"
      },
      "execution_count": 3,
      "outputs": []
    },
    {
      "cell_type": "code",
      "source": [
        "agent = initialize_agent(tools , llm, agent=AgentType.ZERO_SHOT_REACT_DESCRIPTION, handle_parsing_errors=True, verbose=True) # 대화형 에이전트를 초기화\n",
        "agent.invoke(\"소나무 옮겨심기 좋은 계절은?\") # 에이전트에게 질문을 전달하고 답변을 생성하도록 실행"
      ],
      "metadata": {
        "colab": {
          "base_uri": "https://localhost:8080/"
        },
        "id": "F5HtA94OKCu_",
        "outputId": "dd4a3a03-5809-4782-baff-410190f343d3"
      },
      "execution_count": 4,
      "outputs": [
        {
          "output_type": "stream",
          "name": "stderr",
          "text": [
            "<ipython-input-4-e57e329b280e>:1: LangChainDeprecationWarning: LangChain agents will continue to be supported, but it is recommended for new use cases to be built with LangGraph. LangGraph offers a more flexible and full-featured framework for building agents, including support for tool-calling, persistence of state, and human-in-the-loop workflows. For details, refer to the `LangGraph documentation <https://langchain-ai.github.io/langgraph/>`_ as well as guides for `Migrating from AgentExecutor <https://python.langchain.com/docs/how_to/migrate_agent/>`_ and LangGraph's `Pre-built ReAct agent <https://langchain-ai.github.io/langgraph/how-tos/create-react-agent/>`_.\n",
            "  agent = initialize_agent(tools , llm, agent=AgentType.ZERO_SHOT_REACT_DESCRIPTION, handle_parsing_errors=True, verbose=True) # 대화형 에이전트를 초기화\n"
          ]
        },
        {
          "output_type": "stream",
          "name": "stdout",
          "text": [
            "\n",
            "\n",
            "\u001b[1m> Entering new AgentExecutor chain...\u001b[0m\n",
            "\u001b[32;1m\u001b[1;3m소나무 옮겨심기 좋은 계절을 알기 위해 일반적인 조경 및 나무 심기와 관련된 정보를 찾는 것이 필요하다.  \n",
            "Action: wikipedia  \n",
            "Action Input: 소나무 옮겨심기 좋은 계절  \n",
            "\u001b[0m\n",
            "Observation: \u001b[36;1m\u001b[1;3mNo good Wikipedia Search Result was found\u001b[0m\n",
            "Thought:\u001b[32;1m\u001b[1;3m소나무와 같은 나무를 옮겨 심는 데 적합한 계절은 일반적으로 나무의 생장 속도가 느려지고 물 수요가 줄어드는 시기인 가을이나 이른 봄이다. 이 시기에는 뿌리가 안정적으로 자리를 잡을 수 있는 조건을 제공하기 쉽다. 그러나 더 구체적인 답변이 필요하면 조경 전문가의 조언을 구하는 것이 좋다.\n",
            "\n",
            "Final Answer: 소나무 옮겨심기에 적합한 계절은 일반적으로 가을이나 이른 봄이다.\u001b[0m\n",
            "\n",
            "\u001b[1m> Finished chain.\u001b[0m\n"
          ]
        },
        {
          "output_type": "execute_result",
          "data": {
            "text/plain": [
              "{'input': '소나무 옮겨심기 좋은 계절은?', 'output': '소나무 옮겨심기에 적합한 계절은 일반적으로 가을이나 이른 봄이다.'}"
            ]
          },
          "metadata": {},
          "execution_count": 4
        }
      ]
    },
    {
      "cell_type": "code",
      "source": [
        "#Conversational ReAct\n",
        "from langchain.memory import ConversationBufferMemory\n",
        "tools = load_tools([\"llm-math\"],  llm=llm) # 에이전트가 사용할 도구 지정, 수학 관련 문제를 해결하는 도구\n",
        "memory = ConversationBufferMemory(memory_key=\"chat_history\") # 대화 기록을 저장할 키를 지정\n",
        "conversational_agent = initialize_agent(\n",
        "    agent='conversational-react-description',\n",
        "    tools=tools,\n",
        "    llm=llm,\n",
        "    verbose=True, # 디버깅 목적으로 에이전트의 내부 동작을 출력\n",
        "    max_iterations=3, # 에이전트가 질문을 해결하기 위해 도구를 사용할 수 있는 최대 반복 횟수를 3으로 지\n",
        "    memory=memory,)\n",
        "conversational_agent.invoke(\"에드시런은 누구이며 2025년 현재 나이는 몇살이야?\")"
      ],
      "metadata": {
        "colab": {
          "base_uri": "https://localhost:8080/"
        },
        "id": "VCNJzr7yK8IX",
        "outputId": "438cd3ea-9068-49a6-ddb8-79fcda5db614"
      },
      "execution_count": 5,
      "outputs": [
        {
          "output_type": "stream",
          "name": "stderr",
          "text": [
            "<ipython-input-5-af403171cba8>:4: LangChainDeprecationWarning: Please see the migration guide at: https://python.langchain.com/docs/versions/migrating_memory/\n",
            "  memory = ConversationBufferMemory(memory_key=\"chat_history\") # 대화 기록을 저장할 키를 지정\n"
          ]
        },
        {
          "output_type": "stream",
          "name": "stdout",
          "text": [
            "\n",
            "\n",
            "\u001b[1m> Entering new AgentExecutor chain...\u001b[0m\n",
            "\u001b[32;1m\u001b[1;3mThought: Do I need to use a tool? Yes  \n",
            "Action: Calculator  \n",
            "Action Input: 2025 - 1991  \n",
            "\u001b[0m\n",
            "Observation: \u001b[36;1m\u001b[1;3mAnswer: 34\u001b[0m\n",
            "Thought:\u001b[32;1m\u001b[1;3mDo I need to use a tool? No  \n",
            "AI: 에드 시런(Ed Sheeran)은 영국의 가수, 작곡가, 그리고 음악 프로듀서입니다. 그는 \"Shape of You\", \"Perfect\", \"Thinking Out Loud\"와 같은 히트곡들로 잘 알려져 있으며, 전 세계적으로 많은 사랑을 받고 있는 아티스트입니다. 에드 시런은 1991년 2월 17일생으로, 2025년에는 만 34세입니다.\u001b[0m\n",
            "\n",
            "\u001b[1m> Finished chain.\u001b[0m\n"
          ]
        },
        {
          "output_type": "execute_result",
          "data": {
            "text/plain": [
              "{'input': '에드시런은 누구이며 2025년 현재 나이는 몇살이야?',\n",
              " 'chat_history': '',\n",
              " 'output': '에드 시런(Ed Sheeran)은 영국의 가수, 작곡가, 그리고 음악 프로듀서입니다. 그는 \"Shape of You\", \"Perfect\", \"Thinking Out Loud\"와 같은 히트곡들로 잘 알려져 있으며, 전 세계적으로 많은 사랑을 받고 있는 아티스트입니다. 에드 시런은 1991년 2월 17일생으로, 2025년에는 만 34세입니다.'}"
            ]
          },
          "metadata": {},
          "execution_count": 5
        }
      ]
    },
    {
      "cell_type": "code",
      "source": [
        "#Self Ask With Search Agent 사용\n",
        "from langchain import hub\n",
        "from langchain.agents import AgentExecutor, create_self_ask_with_search_agent\n",
        "from langchain_community.tools.tavily_search import TavilyAnswer"
      ],
      "metadata": {
        "id": "rhNVBvik6c79"
      },
      "execution_count": 6,
      "outputs": []
    },
    {
      "cell_type": "code",
      "source": [
        "import os\n",
        "os.environ[\"TAVILY_API_KEY\"] = \"tvly\" # tvly로 시작하는 API 키를 입력하세요"
      ],
      "metadata": {
        "id": "oKjwoSm36xz0"
      },
      "execution_count": 7,
      "outputs": []
    },
    {
      "cell_type": "code",
      "source": [
        "tools = [TavilyAnswer(max_results=5, name=\"Intermediate Answer\")] # 도구 이름을 설정하여 나중에 에이전트가 이 도구를 참조할 때 사용\n",
        "prompt = hub.pull(\"hwchase17/self-ask-with-search\") # 랭체인에서 제공하는 프롬프트 허브에서 self-ask-with-search 프롬프트를 가져옵니\n",
        "\n",
        "agent = create_self_ask_with_search_agent(llm, tools, prompt) # \"Self Ask With Search\" 기능을 구현하는 에이전트를 생성\n",
        "\n",
        "agent_executor = AgentExecutor(agent=agent, tools=tools, handle_parsing_errors=True) #AgentExecutor 이용하여 에이전트 사용\n",
        "agent_executor.invoke({\"input\": \"AI Agent를 세 문장으로 설명해줘\"})"
      ],
      "metadata": {
        "colab": {
          "base_uri": "https://localhost:8080/"
        },
        "id": "C0OxjoRy6c_H",
        "outputId": "877b24d2-5bc3-4517-e501-b080f41e347f"
      },
      "execution_count": 8,
      "outputs": [
        {
          "output_type": "stream",
          "name": "stderr",
          "text": [
            "/usr/local/lib/python3.11/dist-packages/langsmith/client.py:253: LangSmithMissingAPIKeyWarning: API key must be provided when using hosted LangSmith API\n",
            "  warnings.warn(\n"
          ]
        },
        {
          "output_type": "execute_result",
          "data": {
            "text/plain": [
              "{'input': 'AI Agent를 세 문장으로 설명해줘',\n",
              " 'output': 'AI Agent는 인공지능 기술을 활용하여 특정 작업이나 문제를 해결하도록 설계된 소프트웨어 프로그램입니다. 주어진 데이터를 분석하고 학습하여 의사결정을 내리거나 행동을 수행할 수 있습니다. 다양한 분야에서 자동화와 효율성을 높이는 데 사용됩니다.'}"
            ]
          },
          "metadata": {},
          "execution_count": 8
        }
      ]
    },
    {
      "cell_type": "code",
      "source": [
        "# ReAct document store\n",
        "from langchain.docstore.wikipedia import Wikipedia # 문서 저장소로 위키피디아 이용\n",
        "from langchain.agents import Tool\n",
        "from langchain.agents.react.base import DocstoreExplorer # 문서가 저장된 데이터베이스(위키피디아)를 탐색하는 도구\n",
        "\n",
        "docstore=DocstoreExplorer(Wikipedia())\n",
        "tools = [\n",
        "  Tool(\n",
        "    name=\"Search\",\n",
        "    func=docstore.search,  # 용어에 대한 키워드 기반의 검색, 사용자가 정확히 무엇을 찾고자 하는지 모를 때 유용\n",
        "    description=\"docstore에서 용어를 검색하세요.\",\n",
        "  ),\n",
        "  Tool(\n",
        "    name=\"Lookup\",\n",
        "    func=docstore.lookup, # 고유하게 식별할 수 있는 키를 이용한 검색, 특정 문서(또는 항목)를 정확하게 찾을 때 사용\n",
        "    description=\"docstore에서 용어 검색.\",\n",
        "  )\n",
        "] # 에이전트가 사용할 수 있는 도구를 정의"
      ],
      "metadata": {
        "id": "GY_iuYwa7NIp",
        "colab": {
          "base_uri": "https://localhost:8080/"
        },
        "outputId": "3bc5513a-fe63-4675-f338-9e60140ca0f2"
      },
      "execution_count": 9,
      "outputs": [
        {
          "output_type": "stream",
          "name": "stderr",
          "text": [
            "<ipython-input-9-9c1be38f05f3>:6: LangChainDeprecationWarning: LangChain agents will continue to be supported, but it is recommended for new use cases to be built with LangGraph. LangGraph offers a more flexible and full-featured framework for building agents, including support for tool-calling, persistence of state, and human-in-the-loop workflows. For details, refer to the `LangGraph documentation <https://langchain-ai.github.io/langgraph/>`_ as well as guides for `Migrating from AgentExecutor <https://python.langchain.com/docs/how_to/migrate_agent/>`_ and LangGraph's `Pre-built ReAct agent <https://langchain-ai.github.io/langgraph/how-tos/create-react-agent/>`_.\n",
            "  docstore=DocstoreExplorer(Wikipedia())\n"
          ]
        }
      ]
    },
    {
      "cell_type": "code",
      "source": [
        "react = initialize_agent(tools = tools,\n",
        "                         llm = llm,\n",
        "                         agent = AgentType.REACT_DOCSTORE, # 에이전트 유형을 ReAct document store로 지정\n",
        "                         handle_parsing_errors=True, # 에이전트가 작업을 수행하는 동안 발생하는 구문 오류(Parsing Errors)를 처리\n",
        "                         max_iterations=1, # 에이전트가 최대 몇 번까지 작업을 반복할지 지정\n",
        "                         max_execution_time=1, # 에이전트가 작업을 수행하는 최대 시간을 초 단위로 설정\n",
        "                         verbose = True,) # 랭체인 에이전트 초기화"
      ],
      "metadata": {
        "id": "Wmx_blJOMfhZ"
      },
      "execution_count": 10,
      "outputs": []
    },
    {
      "cell_type": "code",
      "source": [
        "def query_data(query):\n",
        "    try:\n",
        "        response = react.invoke(query)  # 에이전트에게 쿼리 전달\n",
        "        print(\"----------------------\", response)  # 결과 출력(디버깅용)\n",
        "        return response  # 검색 결과 반환\n",
        "    except Exception as e:\n",
        "        print(f\"Error: {e}\")  # 에러 메시지를 출력\n",
        "        raise  # 에러 다시 발생(추가 디버깅 용도)\n",
        "\n",
        "query = \"밍크 선인장 키우는 방법은?\"\n",
        "response = query_data(query)\n",
        "print(response['output']) # 에이전트의 최종 답변 출력"
      ],
      "metadata": {
        "colab": {
          "base_uri": "https://localhost:8080/"
        },
        "id": "djzJKErqMjS7",
        "outputId": "2faccfdb-0008-4421-d28e-4262d3c6902a"
      },
      "execution_count": 11,
      "outputs": [
        {
          "output_type": "stream",
          "name": "stdout",
          "text": [
            "\n",
            "\n",
            "\u001b[1m> Entering new AgentExecutor chain...\u001b[0m\n",
            "\u001b[32;1m\u001b[1;3mCould not parse LLM Output: 밍크 선인장은 선인장의 한 종류로, 키우는 방법은 다음과 같습니다:\n",
            "\n",
            "1. **햇빛**: 밍크 선인장은 햇빛을 좋아하므로 밝고 직사광선이 드는 곳에 두는 것이 좋습니다. 하지만 너무 강한 직사광선은 피하고, 반그늘에서 키울 수도 있습니다.\n",
            "\n",
            "2. **물 주기**: 밍크 선인장은 과습에 약하기 때문에 물을 자주 주지 않는 것이 중요합니다. 흙이 완전히 마른 후에 물을 주며, 겨울철에는 물 주는 횟수를 줄입니다.\n",
            "\n",
            "3. **흙**: 배수가 잘 되는 선인장 전용 흙이나 모래가 섞인 흙을 사용하는 것이 좋습니다.\n",
            "\n",
            "4. **온도**: 따뜻한 온도를 선호하며, 추위에 약합니다. 겨울철에는 10°C 이상의 온도를 유지하는 것이 좋습니다.\n",
            "\n",
            "5. **비료**: 성장기(봄, 여름)에는 한 달에 한 번 정도 선인장용 비료를 소량 주는 것이 좋습니다.\n",
            "\n",
            "6. **화분**: 밑에 배수 구멍이 있는 화분을 사용하는 것이 중요하며, 화분의 크기는 식물의 크기에 맞게 선택합니다.\n",
            "\n",
            "7. **환기**: 공기가 잘 통하는 곳에서 키우는 것이 좋습니다. 습기가 오래 머무르는 환경은 피해야 합니다.\n",
            "\n",
            "위의 방법을 따라 꾸준히 관리하면 밍크 선인장을 건강하게 키울 수 있습니다!\n",
            "For troubleshooting, visit: https://python.langchain.com/docs/troubleshooting/errors/OUTPUT_PARSING_FAILURE \u001b[0m\n",
            "Observation: Invalid or incomplete response\n",
            "Thought:\u001b[32;1m\u001b[1;3m\u001b[0m\n",
            "\n",
            "\u001b[1m> Finished chain.\u001b[0m\n",
            "---------------------- {'input': '밍크 선인장 키우는 방법은?', 'output': 'Agent stopped due to iteration limit or time limit.'}\n",
            "Agent stopped due to iteration limit or time limit.\n"
          ]
        }
      ]
    }
  ]
}