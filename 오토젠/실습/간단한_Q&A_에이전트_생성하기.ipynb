{
  "nbformat": 4,
  "nbformat_minor": 0,
  "metadata": {
    "colab": {
      "provenance": []
    },
    "kernelspec": {
      "name": "python3",
      "display_name": "Python 3"
    },
    "language_info": {
      "name": "python"
    }
  },
  "cells": [
    {
      "cell_type": "code",
      "execution_count": 1,
      "metadata": {
        "colab": {
          "base_uri": "https://localhost:8080/"
        },
        "id": "LXAy7X7quzeD",
        "outputId": "265b99c8-988a-4294-b6d9-fa9c0ef866bf"
      },
      "outputs": [
        {
          "output_type": "stream",
          "name": "stdout",
          "text": [
            "Collecting autogen\n",
            "  Downloading autogen-0.7.0-py3-none-any.whl.metadata (21 kB)\n",
            "Collecting httpx==0.27.2\n",
            "  Downloading httpx-0.27.2-py3-none-any.whl.metadata (7.1 kB)\n",
            "Requirement already satisfied: anyio in /usr/local/lib/python3.10/dist-packages (from httpx==0.27.2) (3.7.1)\n",
            "Requirement already satisfied: certifi in /usr/local/lib/python3.10/dist-packages (from httpx==0.27.2) (2024.12.14)\n",
            "Requirement already satisfied: httpcore==1.* in /usr/local/lib/python3.10/dist-packages (from httpx==0.27.2) (1.0.7)\n",
            "Requirement already satisfied: idna in /usr/local/lib/python3.10/dist-packages (from httpx==0.27.2) (3.10)\n",
            "Requirement already satisfied: sniffio in /usr/local/lib/python3.10/dist-packages (from httpx==0.27.2) (1.3.1)\n",
            "Requirement already satisfied: h11<0.15,>=0.13 in /usr/local/lib/python3.10/dist-packages (from httpcore==1.*->httpx==0.27.2) (0.14.0)\n",
            "Collecting pyautogen==0.7.0 (from autogen)\n",
            "  Downloading pyautogen-0.7.0-py3-none-any.whl.metadata (28 kB)\n",
            "Collecting asyncer==0.0.8 (from pyautogen==0.7.0->autogen)\n",
            "  Downloading asyncer-0.0.8-py3-none-any.whl.metadata (6.7 kB)\n",
            "Collecting diskcache (from pyautogen==0.7.0->autogen)\n",
            "  Downloading diskcache-5.6.3-py3-none-any.whl.metadata (20 kB)\n",
            "Collecting docker (from pyautogen==0.7.0->autogen)\n",
            "  Downloading docker-7.1.0-py3-none-any.whl.metadata (3.8 kB)\n",
            "Collecting fast-depends<3,>=2.4.12 (from pyautogen==0.7.0->autogen)\n",
            "  Downloading fast_depends-2.4.12-py3-none-any.whl.metadata (7.6 kB)\n",
            "Collecting flaml (from pyautogen==0.7.0->autogen)\n",
            "  Downloading FLAML-2.3.3-py3-none-any.whl.metadata (16 kB)\n",
            "Requirement already satisfied: numpy<2.0.0,>=1.24.0 in /usr/local/lib/python3.10/dist-packages (from pyautogen==0.7.0->autogen) (1.26.4)\n",
            "Requirement already satisfied: openai>=1.58 in /usr/local/lib/python3.10/dist-packages (from pyautogen==0.7.0->autogen) (1.59.4)\n",
            "Requirement already satisfied: packaging in /usr/local/lib/python3.10/dist-packages (from pyautogen==0.7.0->autogen) (24.2)\n",
            "Requirement already satisfied: pydantic!=2.6.0,<3,>=1.10 in /usr/local/lib/python3.10/dist-packages (from pyautogen==0.7.0->autogen) (2.10.4)\n",
            "Collecting python-dotenv (from pyautogen==0.7.0->autogen)\n",
            "  Downloading python_dotenv-1.0.1-py3-none-any.whl.metadata (23 kB)\n",
            "Requirement already satisfied: termcolor in /usr/local/lib/python3.10/dist-packages (from pyautogen==0.7.0->autogen) (2.5.0)\n",
            "Collecting tiktoken (from pyautogen==0.7.0->autogen)\n",
            "  Downloading tiktoken-0.8.0-cp310-cp310-manylinux_2_17_x86_64.manylinux2014_x86_64.whl.metadata (6.6 kB)\n",
            "Requirement already satisfied: websockets<15,>=14 in /usr/local/lib/python3.10/dist-packages (from pyautogen==0.7.0->autogen) (14.1)\n",
            "Requirement already satisfied: exceptiongroup in /usr/local/lib/python3.10/dist-packages (from anyio->httpx==0.27.2) (1.2.2)\n",
            "Requirement already satisfied: distro<2,>=1.7.0 in /usr/local/lib/python3.10/dist-packages (from openai>=1.58->pyautogen==0.7.0->autogen) (1.9.0)\n",
            "Requirement already satisfied: jiter<1,>=0.4.0 in /usr/local/lib/python3.10/dist-packages (from openai>=1.58->pyautogen==0.7.0->autogen) (0.8.2)\n",
            "Requirement already satisfied: tqdm>4 in /usr/local/lib/python3.10/dist-packages (from openai>=1.58->pyautogen==0.7.0->autogen) (4.67.1)\n",
            "Requirement already satisfied: typing-extensions<5,>=4.11 in /usr/local/lib/python3.10/dist-packages (from openai>=1.58->pyautogen==0.7.0->autogen) (4.12.2)\n",
            "Requirement already satisfied: annotated-types>=0.6.0 in /usr/local/lib/python3.10/dist-packages (from pydantic!=2.6.0,<3,>=1.10->pyautogen==0.7.0->autogen) (0.7.0)\n",
            "Requirement already satisfied: pydantic-core==2.27.2 in /usr/local/lib/python3.10/dist-packages (from pydantic!=2.6.0,<3,>=1.10->pyautogen==0.7.0->autogen) (2.27.2)\n",
            "Requirement already satisfied: requests>=2.26.0 in /usr/local/lib/python3.10/dist-packages (from docker->pyautogen==0.7.0->autogen) (2.32.3)\n",
            "Requirement already satisfied: urllib3>=1.26.0 in /usr/local/lib/python3.10/dist-packages (from docker->pyautogen==0.7.0->autogen) (2.3.0)\n",
            "Requirement already satisfied: regex>=2022.1.18 in /usr/local/lib/python3.10/dist-packages (from tiktoken->pyautogen==0.7.0->autogen) (2024.11.6)\n",
            "Requirement already satisfied: charset-normalizer<4,>=2 in /usr/local/lib/python3.10/dist-packages (from requests>=2.26.0->docker->pyautogen==0.7.0->autogen) (3.4.1)\n",
            "Downloading httpx-0.27.2-py3-none-any.whl (76 kB)\n",
            "\u001b[2K   \u001b[90m━━━━━━━━━━━━━━━━━━━━━━━━━━━━━━━━━━━━━━━━\u001b[0m \u001b[32m76.4/76.4 kB\u001b[0m \u001b[31m4.5 MB/s\u001b[0m eta \u001b[36m0:00:00\u001b[0m\n",
            "\u001b[?25hDownloading autogen-0.7.0-py3-none-any.whl (13 kB)\n",
            "Downloading pyautogen-0.7.0-py3-none-any.whl (497 kB)\n",
            "\u001b[2K   \u001b[90m━━━━━━━━━━━━━━━━━━━━━━━━━━━━━━━━━━━━━━━━\u001b[0m \u001b[32m497.3/497.3 kB\u001b[0m \u001b[31m17.1 MB/s\u001b[0m eta \u001b[36m0:00:00\u001b[0m\n",
            "\u001b[?25hDownloading asyncer-0.0.8-py3-none-any.whl (9.2 kB)\n",
            "Downloading fast_depends-2.4.12-py3-none-any.whl (17 kB)\n",
            "Downloading diskcache-5.6.3-py3-none-any.whl (45 kB)\n",
            "\u001b[2K   \u001b[90m━━━━━━━━━━━━━━━━━━━━━━━━━━━━━━━━━━━━━━━━\u001b[0m \u001b[32m45.5/45.5 kB\u001b[0m \u001b[31m3.2 MB/s\u001b[0m eta \u001b[36m0:00:00\u001b[0m\n",
            "\u001b[?25hDownloading docker-7.1.0-py3-none-any.whl (147 kB)\n",
            "\u001b[2K   \u001b[90m━━━━━━━━━━━━━━━━━━━━━━━━━━━━━━━━━━━━━━━━\u001b[0m \u001b[32m147.8/147.8 kB\u001b[0m \u001b[31m6.0 MB/s\u001b[0m eta \u001b[36m0:00:00\u001b[0m\n",
            "\u001b[?25hDownloading FLAML-2.3.3-py3-none-any.whl (314 kB)\n",
            "\u001b[2K   \u001b[90m━━━━━━━━━━━━━━━━━━━━━━━━━━━━━━━━━━━━━━━━\u001b[0m \u001b[32m314.2/314.2 kB\u001b[0m \u001b[31m18.4 MB/s\u001b[0m eta \u001b[36m0:00:00\u001b[0m\n",
            "\u001b[?25hDownloading python_dotenv-1.0.1-py3-none-any.whl (19 kB)\n",
            "Downloading tiktoken-0.8.0-cp310-cp310-manylinux_2_17_x86_64.manylinux2014_x86_64.whl (1.2 MB)\n",
            "\u001b[2K   \u001b[90m━━━━━━━━━━━━━━━━━━━━━━━━━━━━━━━━━━━━━━━━\u001b[0m \u001b[32m1.2/1.2 MB\u001b[0m \u001b[31m17.3 MB/s\u001b[0m eta \u001b[36m0:00:00\u001b[0m\n",
            "\u001b[?25hInstalling collected packages: python-dotenv, flaml, diskcache, tiktoken, httpx, docker, asyncer, fast-depends, pyautogen, autogen\n",
            "  Attempting uninstall: httpx\n",
            "    Found existing installation: httpx 0.28.1\n",
            "    Uninstalling httpx-0.28.1:\n",
            "      Successfully uninstalled httpx-0.28.1\n",
            "Successfully installed asyncer-0.0.8 autogen-0.7.0 diskcache-5.6.3 docker-7.1.0 fast-depends-2.4.12 flaml-2.3.3 httpx-0.27.2 pyautogen-0.7.0 python-dotenv-1.0.1 tiktoken-0.8.0\n"
          ]
        }
      ],
      "source": [
        "!pip install autogen \"httpx==0.27.2\""
      ]
    },
    {
      "cell_type": "code",
      "source": [
        "import autogen\n",
        "from autogen import AssistantAgent, UserProxyAgent\n",
        "import os\n",
        "os.environ[\"OPENAI_API_KEY\"] = \"sk\" #openai 키 입력\n",
        "\n",
        "llm_config = {\"model\": \"gpt-4o\", \"api_key\": os.environ[\"OPENAI_API_KEY\"]}"
      ],
      "metadata": {
        "colab": {
          "base_uri": "https://localhost:8080/"
        },
        "id": "1cLJonLDu4Pz",
        "outputId": "fabeb0e5-8b3c-4a2a-a598-ae1132882c5b"
      },
      "execution_count": 2,
      "outputs": [
        {
          "output_type": "stream",
          "name": "stderr",
          "text": [
            "/usr/local/lib/python3.10/dist-packages/dask/dataframe/__init__.py:42: FutureWarning: \n",
            "Dask dataframe query planning is disabled because dask-expr is not installed.\n",
            "\n",
            "You can install it with `pip install dask[dataframe]` or `conda install dask`.\n",
            "This will raise in a future version.\n",
            "\n",
            "  warnings.warn(msg, FutureWarning)\n"
          ]
        }
      ]
    },
    {
      "cell_type": "code",
      "source": [
        "assistant = AssistantAgent(\"assistant\", llm_config=llm_config) # AssistantAgent를 생성\n",
        "\n",
        "# UserProxyAgent를 생성\n",
        "proxy = UserProxyAgent(\n",
        "    \"proxy\", code_execution_config={\"executor\": autogen.coding.LocalCommandLineCodeExecutor(work_dir=\"coding\")}\n",
        ") #autogen.coding.LocalCommandLineCodeExecutor: AutoGen 프레임워크에서 제공하는 코드 실행을 담당하는 컴포넌트"
      ],
      "metadata": {
        "id": "JHKq2Zldu4TL"
      },
      "execution_count": 3,
      "outputs": []
    },
    {
      "cell_type": "code",
      "source": [
        "proxy.initiate_chat(\n",
        "    assistant,\n",
        "    message=\"1부터 10000까지 소수의 개수를 세는 코드를 알려줘.\",\n",
        ") # proxy 객체를 사용하여 assistant 에이전트와의 대화를 시작합니다"
      ],
      "metadata": {
        "colab": {
          "base_uri": "https://localhost:8080/"
        },
        "id": "3SccQjisvMuU",
        "outputId": "ea9ecf06-621b-4b4c-bc4e-60723ffd255b"
      },
      "execution_count": 4,
      "outputs": [
        {
          "name": "stdout",
          "output_type": "stream",
          "text": [
            "proxy (to assistant):\n",
            "\n",
            "1부터 10000까지 소수의 개수를 세는 코드를 알려줘.\n",
            "\n",
            "--------------------------------------------------------------------------------\n",
            "assistant (to proxy):\n",
            "\n",
            "소수는 1과 자기 자신 이외에는 다른 약수를 가지지 않는 자연수입니다. 1부터 10000까지의 소수의 개수를 구하기 위해, 에라토스테네스의 체 알고리즘을 사용할 수 있습니다. 이 알고리즘은 효율적으로 소수를 구하는 데 유용합니다.\n",
            "\n",
            "다음은 1부터 10000까지의 소수를 구하고 그 개수를 세는 Python 코드입니다:\n",
            "\n",
            "```python\n",
            "def count_primes(n):\n",
            "    sieve = [True] * (n + 1)\n",
            "    sieve[0] = sieve[1] = False  # 0과 1은 소수가 아님\n",
            "    \n",
            "    for start in range(2, int(n ** 0.5) + 1):\n",
            "        if sieve[start]:\n",
            "            for i in range(start * start, n + 1, start):\n",
            "                sieve[i] = False\n",
            "    \n",
            "    return sum(sieve)\n",
            "\n",
            "# 1부터 10000까지 소수의 개수\n",
            "prime_count = count_primes(10000)\n",
            "print(f\"1부터 10000까지의 소수의 개수는 {prime_count}개입니다.\")\n",
            "```\n",
            "\n",
            "이 코드를 실행하면 1부터 10000까지의 소수의 개수를 출력합니다. TERMINATE\n",
            "\n",
            "--------------------------------------------------------------------------------\n",
            "Replying as proxy. Provide feedback to assistant. Press enter to skip and use auto-reply, or type 'exit' to end the conversation: exit\n"
          ]
        },
        {
          "output_type": "execute_result",
          "data": {
            "text/plain": [
              "ChatResult(chat_id=None, chat_history=[{'content': '1부터 10000까지 소수의 개수를 세는 코드를 알려줘.', 'role': 'assistant', 'name': 'proxy'}, {'content': '소수는 1과 자기 자신 이외에는 다른 약수를 가지지 않는 자연수입니다. 1부터 10000까지의 소수의 개수를 구하기 위해, 에라토스테네스의 체 알고리즘을 사용할 수 있습니다. 이 알고리즘은 효율적으로 소수를 구하는 데 유용합니다.\\n\\n다음은 1부터 10000까지의 소수를 구하고 그 개수를 세는 Python 코드입니다:\\n\\n```python\\ndef count_primes(n):\\n    sieve = [True] * (n + 1)\\n    sieve[0] = sieve[1] = False  # 0과 1은 소수가 아님\\n    \\n    for start in range(2, int(n ** 0.5) + 1):\\n        if sieve[start]:\\n            for i in range(start * start, n + 1, start):\\n                sieve[i] = False\\n    \\n    return sum(sieve)\\n\\n# 1부터 10000까지 소수의 개수\\nprime_count = count_primes(10000)\\nprint(f\"1부터 10000까지의 소수의 개수는 {prime_count}개입니다.\")\\n```\\n\\n이 코드를 실행하면 1부터 10000까지의 소수의 개수를 출력합니다. TERMINATE', 'role': 'user', 'name': 'assistant'}], summary='소수는 1과 자기 자신 이외에는 다른 약수를 가지지 않는 자연수입니다. 1부터 10000까지의 소수의 개수를 구하기 위해, 에라토스테네스의 체 알고리즘을 사용할 수 있습니다. 이 알고리즘은 효율적으로 소수를 구하는 데 유용합니다.\\n\\n다음은 1부터 10000까지의 소수를 구하고 그 개수를 세는 Python 코드입니다:\\n\\n```python\\ndef count_primes(n):\\n    sieve = [True] * (n + 1)\\n    sieve[0] = sieve[1] = False  # 0과 1은 소수가 아님\\n    \\n    for start in range(2, int(n ** 0.5) + 1):\\n        if sieve[start]:\\n            for i in range(start * start, n + 1, start):\\n                sieve[i] = False\\n    \\n    return sum(sieve)\\n\\n# 1부터 10000까지 소수의 개수\\nprime_count = count_primes(10000)\\nprint(f\"1부터 10000까지의 소수의 개수는 {prime_count}개입니다.\")\\n```\\n\\n이 코드를 실행하면 1부터 10000까지의 소수의 개수를 출력합니다. ', cost={'usage_including_cached_inference': {'total_cost': 0.00391, 'gpt-4o-2024-08-06': {'cost': 0.00391, 'prompt_tokens': 484, 'completion_tokens': 270, 'total_tokens': 754}}, 'usage_excluding_cached_inference': {'total_cost': 0.00391, 'gpt-4o-2024-08-06': {'cost': 0.00391, 'prompt_tokens': 484, 'completion_tokens': 270, 'total_tokens': 754}}}, human_input=['exit'])"
            ]
          },
          "metadata": {},
          "execution_count": 4
        }
      ]
    },
    {
      "cell_type": "code",
      "source": [],
      "metadata": {
        "id": "yNRawCMvvM2L"
      },
      "execution_count": null,
      "outputs": []
    }
  ]
}