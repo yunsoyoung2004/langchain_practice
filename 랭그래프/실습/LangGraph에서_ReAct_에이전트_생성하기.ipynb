{
  "cells": [
    {
      "cell_type": "code",
      "execution_count": null,
      "id": "b451b58a-89bd-424f-8c06-0d9fe325e01b",
      "metadata": {
        "id": "b451b58a-89bd-424f-8c06-0d9fe325e01b",
        "colab": {
          "base_uri": "https://localhost:8080/"
        },
        "outputId": "2d861d8f-c687-4771-c32b-f05fc242cad4"
      },
      "outputs": [
        {
          "output_type": "stream",
          "name": "stdout",
          "text": [
            "Collecting langgraph\n",
            "  Downloading langgraph-0.2.56-py3-none-any.whl.metadata (15 kB)\n",
            "Collecting langchain-community\n",
            "  Downloading langchain_community-0.3.10-py3-none-any.whl.metadata (2.9 kB)\n",
            "Collecting langchain-openai\n",
            "  Downloading langchain_openai-0.2.11-py3-none-any.whl.metadata (2.7 kB)\n",
            "Collecting tavily-python\n",
            "  Downloading tavily_python-0.5.0-py3-none-any.whl.metadata (11 kB)\n",
            "Collecting httpx==0.27.2\n",
            "  Downloading httpx-0.27.2-py3-none-any.whl.metadata (7.1 kB)\n",
            "Requirement already satisfied: anyio in /usr/local/lib/python3.10/dist-packages (from httpx==0.27.2) (3.7.1)\n",
            "Requirement already satisfied: certifi in /usr/local/lib/python3.10/dist-packages (from httpx==0.27.2) (2024.8.30)\n",
            "Requirement already satisfied: httpcore==1.* in /usr/local/lib/python3.10/dist-packages (from httpx==0.27.2) (1.0.7)\n",
            "Requirement already satisfied: idna in /usr/local/lib/python3.10/dist-packages (from httpx==0.27.2) (3.10)\n",
            "Requirement already satisfied: sniffio in /usr/local/lib/python3.10/dist-packages (from httpx==0.27.2) (1.3.1)\n",
            "Requirement already satisfied: h11<0.15,>=0.13 in /usr/local/lib/python3.10/dist-packages (from httpcore==1.*->httpx==0.27.2) (0.14.0)\n",
            "Requirement already satisfied: langchain-core!=0.3.0,!=0.3.1,!=0.3.10,!=0.3.11,!=0.3.12,!=0.3.13,!=0.3.14,!=0.3.2,!=0.3.3,!=0.3.4,!=0.3.5,!=0.3.6,!=0.3.7,!=0.3.8,!=0.3.9,<0.4.0,>=0.2.43 in /usr/local/lib/python3.10/dist-packages (from langgraph) (0.3.21)\n",
            "Collecting langgraph-checkpoint<3.0.0,>=2.0.4 (from langgraph)\n",
            "  Downloading langgraph_checkpoint-2.0.8-py3-none-any.whl.metadata (4.6 kB)\n",
            "Collecting langgraph-sdk<0.2.0,>=0.1.42 (from langgraph)\n",
            "  Downloading langgraph_sdk-0.1.43-py3-none-any.whl.metadata (1.8 kB)\n",
            "Requirement already satisfied: PyYAML>=5.3 in /usr/local/lib/python3.10/dist-packages (from langchain-community) (6.0.2)\n",
            "Requirement already satisfied: SQLAlchemy<3,>=1.4 in /usr/local/lib/python3.10/dist-packages (from langchain-community) (2.0.36)\n",
            "Requirement already satisfied: aiohttp<4.0.0,>=3.8.3 in /usr/local/lib/python3.10/dist-packages (from langchain-community) (3.11.9)\n",
            "Collecting dataclasses-json<0.7,>=0.5.7 (from langchain-community)\n",
            "  Downloading dataclasses_json-0.6.7-py3-none-any.whl.metadata (25 kB)\n",
            "Collecting httpx-sse<0.5.0,>=0.4.0 (from langchain-community)\n",
            "  Downloading httpx_sse-0.4.0-py3-none-any.whl.metadata (9.0 kB)\n",
            "Collecting langchain<0.4.0,>=0.3.10 (from langchain-community)\n",
            "  Downloading langchain-0.3.10-py3-none-any.whl.metadata (7.1 kB)\n",
            "Collecting langchain-core!=0.3.0,!=0.3.1,!=0.3.10,!=0.3.11,!=0.3.12,!=0.3.13,!=0.3.14,!=0.3.2,!=0.3.3,!=0.3.4,!=0.3.5,!=0.3.6,!=0.3.7,!=0.3.8,!=0.3.9,<0.4.0,>=0.2.43 (from langgraph)\n",
            "  Downloading langchain_core-0.3.22-py3-none-any.whl.metadata (6.3 kB)\n",
            "Requirement already satisfied: langsmith<0.2.0,>=0.1.125 in /usr/local/lib/python3.10/dist-packages (from langchain-community) (0.1.147)\n",
            "Requirement already satisfied: numpy<2,>=1.22.4 in /usr/local/lib/python3.10/dist-packages (from langchain-community) (1.26.4)\n",
            "Collecting pydantic-settings<3.0.0,>=2.4.0 (from langchain-community)\n",
            "  Downloading pydantic_settings-2.6.1-py3-none-any.whl.metadata (3.5 kB)\n",
            "Requirement already satisfied: requests<3,>=2 in /usr/local/lib/python3.10/dist-packages (from langchain-community) (2.32.3)\n",
            "Requirement already satisfied: tenacity!=8.4.0,<10,>=8.1.0 in /usr/local/lib/python3.10/dist-packages (from langchain-community) (9.0.0)\n",
            "Requirement already satisfied: openai<2.0.0,>=1.54.0 in /usr/local/lib/python3.10/dist-packages (from langchain-openai) (1.54.5)\n",
            "Collecting tiktoken<1,>=0.7 (from langchain-openai)\n",
            "  Downloading tiktoken-0.8.0-cp310-cp310-manylinux_2_17_x86_64.manylinux2014_x86_64.whl.metadata (6.6 kB)\n",
            "Requirement already satisfied: aiohappyeyeballs>=2.3.0 in /usr/local/lib/python3.10/dist-packages (from aiohttp<4.0.0,>=3.8.3->langchain-community) (2.4.4)\n",
            "Requirement already satisfied: aiosignal>=1.1.2 in /usr/local/lib/python3.10/dist-packages (from aiohttp<4.0.0,>=3.8.3->langchain-community) (1.3.1)\n",
            "Requirement already satisfied: async-timeout<6.0,>=4.0 in /usr/local/lib/python3.10/dist-packages (from aiohttp<4.0.0,>=3.8.3->langchain-community) (4.0.3)\n",
            "Requirement already satisfied: attrs>=17.3.0 in /usr/local/lib/python3.10/dist-packages (from aiohttp<4.0.0,>=3.8.3->langchain-community) (24.2.0)\n",
            "Requirement already satisfied: frozenlist>=1.1.1 in /usr/local/lib/python3.10/dist-packages (from aiohttp<4.0.0,>=3.8.3->langchain-community) (1.5.0)\n",
            "Requirement already satisfied: multidict<7.0,>=4.5 in /usr/local/lib/python3.10/dist-packages (from aiohttp<4.0.0,>=3.8.3->langchain-community) (6.1.0)\n",
            "Requirement already satisfied: propcache>=0.2.0 in /usr/local/lib/python3.10/dist-packages (from aiohttp<4.0.0,>=3.8.3->langchain-community) (0.2.1)\n",
            "Requirement already satisfied: yarl<2.0,>=1.17.0 in /usr/local/lib/python3.10/dist-packages (from aiohttp<4.0.0,>=3.8.3->langchain-community) (1.18.3)\n",
            "Collecting marshmallow<4.0.0,>=3.18.0 (from dataclasses-json<0.7,>=0.5.7->langchain-community)\n",
            "  Downloading marshmallow-3.23.1-py3-none-any.whl.metadata (7.5 kB)\n",
            "Collecting typing-inspect<1,>=0.4.0 (from dataclasses-json<0.7,>=0.5.7->langchain-community)\n",
            "  Downloading typing_inspect-0.9.0-py3-none-any.whl.metadata (1.5 kB)\n",
            "Requirement already satisfied: langchain-text-splitters<0.4.0,>=0.3.0 in /usr/local/lib/python3.10/dist-packages (from langchain<0.4.0,>=0.3.10->langchain-community) (0.3.2)\n",
            "Requirement already satisfied: pydantic<3.0.0,>=2.7.4 in /usr/local/lib/python3.10/dist-packages (from langchain<0.4.0,>=0.3.10->langchain-community) (2.10.3)\n",
            "Requirement already satisfied: jsonpatch<2.0,>=1.33 in /usr/local/lib/python3.10/dist-packages (from langchain-core!=0.3.0,!=0.3.1,!=0.3.10,!=0.3.11,!=0.3.12,!=0.3.13,!=0.3.14,!=0.3.2,!=0.3.3,!=0.3.4,!=0.3.5,!=0.3.6,!=0.3.7,!=0.3.8,!=0.3.9,<0.4.0,>=0.2.43->langgraph) (1.33)\n",
            "Requirement already satisfied: packaging<25,>=23.2 in /usr/local/lib/python3.10/dist-packages (from langchain-core!=0.3.0,!=0.3.1,!=0.3.10,!=0.3.11,!=0.3.12,!=0.3.13,!=0.3.14,!=0.3.2,!=0.3.3,!=0.3.4,!=0.3.5,!=0.3.6,!=0.3.7,!=0.3.8,!=0.3.9,<0.4.0,>=0.2.43->langgraph) (24.2)\n",
            "Requirement already satisfied: typing-extensions>=4.7 in /usr/local/lib/python3.10/dist-packages (from langchain-core!=0.3.0,!=0.3.1,!=0.3.10,!=0.3.11,!=0.3.12,!=0.3.13,!=0.3.14,!=0.3.2,!=0.3.3,!=0.3.4,!=0.3.5,!=0.3.6,!=0.3.7,!=0.3.8,!=0.3.9,<0.4.0,>=0.2.43->langgraph) (4.12.2)\n",
            "Requirement already satisfied: msgpack<2.0.0,>=1.1.0 in /usr/local/lib/python3.10/dist-packages (from langgraph-checkpoint<3.0.0,>=2.0.4->langgraph) (1.1.0)\n",
            "Requirement already satisfied: orjson>=3.10.1 in /usr/local/lib/python3.10/dist-packages (from langgraph-sdk<0.2.0,>=0.1.42->langgraph) (3.10.12)\n",
            "Requirement already satisfied: requests-toolbelt<2.0.0,>=1.0.0 in /usr/local/lib/python3.10/dist-packages (from langsmith<0.2.0,>=0.1.125->langchain-community) (1.0.0)\n",
            "Requirement already satisfied: distro<2,>=1.7.0 in /usr/local/lib/python3.10/dist-packages (from openai<2.0.0,>=1.54.0->langchain-openai) (1.9.0)\n",
            "Requirement already satisfied: jiter<1,>=0.4.0 in /usr/local/lib/python3.10/dist-packages (from openai<2.0.0,>=1.54.0->langchain-openai) (0.8.0)\n",
            "Requirement already satisfied: tqdm>4 in /usr/local/lib/python3.10/dist-packages (from openai<2.0.0,>=1.54.0->langchain-openai) (4.66.6)\n",
            "Requirement already satisfied: exceptiongroup in /usr/local/lib/python3.10/dist-packages (from anyio->httpx==0.27.2) (1.2.2)\n",
            "Collecting python-dotenv>=0.21.0 (from pydantic-settings<3.0.0,>=2.4.0->langchain-community)\n",
            "  Downloading python_dotenv-1.0.1-py3-none-any.whl.metadata (23 kB)\n",
            "Requirement already satisfied: charset-normalizer<4,>=2 in /usr/local/lib/python3.10/dist-packages (from requests<3,>=2->langchain-community) (3.4.0)\n",
            "Requirement already satisfied: urllib3<3,>=1.21.1 in /usr/local/lib/python3.10/dist-packages (from requests<3,>=2->langchain-community) (2.2.3)\n",
            "Requirement already satisfied: greenlet!=0.4.17 in /usr/local/lib/python3.10/dist-packages (from SQLAlchemy<3,>=1.4->langchain-community) (3.1.1)\n",
            "Requirement already satisfied: regex>=2022.1.18 in /usr/local/lib/python3.10/dist-packages (from tiktoken<1,>=0.7->langchain-openai) (2024.9.11)\n",
            "Requirement already satisfied: jsonpointer>=1.9 in /usr/local/lib/python3.10/dist-packages (from jsonpatch<2.0,>=1.33->langchain-core!=0.3.0,!=0.3.1,!=0.3.10,!=0.3.11,!=0.3.12,!=0.3.13,!=0.3.14,!=0.3.2,!=0.3.3,!=0.3.4,!=0.3.5,!=0.3.6,!=0.3.7,!=0.3.8,!=0.3.9,<0.4.0,>=0.2.43->langgraph) (3.0.0)\n",
            "Requirement already satisfied: annotated-types>=0.6.0 in /usr/local/lib/python3.10/dist-packages (from pydantic<3.0.0,>=2.7.4->langchain<0.4.0,>=0.3.10->langchain-community) (0.7.0)\n",
            "Requirement already satisfied: pydantic-core==2.27.1 in /usr/local/lib/python3.10/dist-packages (from pydantic<3.0.0,>=2.7.4->langchain<0.4.0,>=0.3.10->langchain-community) (2.27.1)\n",
            "Collecting mypy-extensions>=0.3.0 (from typing-inspect<1,>=0.4.0->dataclasses-json<0.7,>=0.5.7->langchain-community)\n",
            "  Downloading mypy_extensions-1.0.0-py3-none-any.whl.metadata (1.1 kB)\n",
            "Downloading httpx-0.27.2-py3-none-any.whl (76 kB)\n",
            "\u001b[2K   \u001b[90m━━━━━━━━━━━━━━━━━━━━━━━━━━━━━━━━━━━━━━━━\u001b[0m \u001b[32m76.4/76.4 kB\u001b[0m \u001b[31m3.9 MB/s\u001b[0m eta \u001b[36m0:00:00\u001b[0m\n",
            "\u001b[?25hDownloading langgraph-0.2.56-py3-none-any.whl (126 kB)\n",
            "\u001b[2K   \u001b[90m━━━━━━━━━━━━━━━━━━━━━━━━━━━━━━━━━━━━━━━━\u001b[0m \u001b[32m126.8/126.8 kB\u001b[0m \u001b[31m8.9 MB/s\u001b[0m eta \u001b[36m0:00:00\u001b[0m\n",
            "\u001b[?25hDownloading langchain_community-0.3.10-py3-none-any.whl (2.4 MB)\n",
            "\u001b[2K   \u001b[90m━━━━━━━━━━━━━━━━━━━━━━━━━━━━━━━━━━━━━━━━\u001b[0m \u001b[32m2.4/2.4 MB\u001b[0m \u001b[31m34.2 MB/s\u001b[0m eta \u001b[36m0:00:00\u001b[0m\n",
            "\u001b[?25hDownloading langchain_openai-0.2.11-py3-none-any.whl (50 kB)\n",
            "\u001b[2K   \u001b[90m━━━━━━━━━━━━━━━━━━━━━━━━━━━━━━━━━━━━━━━━\u001b[0m \u001b[32m50.7/50.7 kB\u001b[0m \u001b[31m3.8 MB/s\u001b[0m eta \u001b[36m0:00:00\u001b[0m\n",
            "\u001b[?25hDownloading tavily_python-0.5.0-py3-none-any.whl (14 kB)\n",
            "Downloading dataclasses_json-0.6.7-py3-none-any.whl (28 kB)\n",
            "Downloading httpx_sse-0.4.0-py3-none-any.whl (7.8 kB)\n",
            "Downloading langchain-0.3.10-py3-none-any.whl (1.0 MB)\n",
            "\u001b[2K   \u001b[90m━━━━━━━━━━━━━━━━━━━━━━━━━━━━━━━━━━━━━━━━\u001b[0m \u001b[32m1.0/1.0 MB\u001b[0m \u001b[31m37.3 MB/s\u001b[0m eta \u001b[36m0:00:00\u001b[0m\n",
            "\u001b[?25hDownloading langchain_core-0.3.22-py3-none-any.whl (409 kB)\n",
            "\u001b[2K   \u001b[90m━━━━━━━━━━━━━━━━━━━━━━━━━━━━━━━━━━━━━━━━\u001b[0m \u001b[32m409.7/409.7 kB\u001b[0m \u001b[31m20.5 MB/s\u001b[0m eta \u001b[36m0:00:00\u001b[0m\n",
            "\u001b[?25hDownloading langgraph_checkpoint-2.0.8-py3-none-any.whl (35 kB)\n",
            "Downloading langgraph_sdk-0.1.43-py3-none-any.whl (31 kB)\n",
            "Downloading pydantic_settings-2.6.1-py3-none-any.whl (28 kB)\n",
            "Downloading tiktoken-0.8.0-cp310-cp310-manylinux_2_17_x86_64.manylinux2014_x86_64.whl (1.2 MB)\n",
            "\u001b[2K   \u001b[90m━━━━━━━━━━━━━━━━━━━━━━━━━━━━━━━━━━━━━━━━\u001b[0m \u001b[32m1.2/1.2 MB\u001b[0m \u001b[31m20.3 MB/s\u001b[0m eta \u001b[36m0:00:00\u001b[0m\n",
            "\u001b[?25hDownloading marshmallow-3.23.1-py3-none-any.whl (49 kB)\n",
            "\u001b[2K   \u001b[90m━━━━━━━━━━━━━━━━━━━━━━━━━━━━━━━━━━━━━━━━\u001b[0m \u001b[32m49.5/49.5 kB\u001b[0m \u001b[31m2.2 MB/s\u001b[0m eta \u001b[36m0:00:00\u001b[0m\n",
            "\u001b[?25hDownloading python_dotenv-1.0.1-py3-none-any.whl (19 kB)\n",
            "Downloading typing_inspect-0.9.0-py3-none-any.whl (8.8 kB)\n",
            "Downloading mypy_extensions-1.0.0-py3-none-any.whl (4.7 kB)\n",
            "Installing collected packages: python-dotenv, mypy-extensions, marshmallow, httpx-sse, typing-inspect, tiktoken, httpx, tavily-python, pydantic-settings, langgraph-sdk, dataclasses-json, langchain-core, langgraph-checkpoint, langchain-openai, langgraph, langchain, langchain-community\n",
            "  Attempting uninstall: httpx\n",
            "    Found existing installation: httpx 0.28.0\n",
            "    Uninstalling httpx-0.28.0:\n",
            "      Successfully uninstalled httpx-0.28.0\n",
            "  Attempting uninstall: langchain-core\n",
            "    Found existing installation: langchain-core 0.3.21\n",
            "    Uninstalling langchain-core-0.3.21:\n",
            "      Successfully uninstalled langchain-core-0.3.21\n",
            "  Attempting uninstall: langchain\n",
            "    Found existing installation: langchain 0.3.9\n",
            "    Uninstalling langchain-0.3.9:\n",
            "      Successfully uninstalled langchain-0.3.9\n",
            "Successfully installed dataclasses-json-0.6.7 httpx-0.27.2 httpx-sse-0.4.0 langchain-0.3.10 langchain-community-0.3.10 langchain-core-0.3.22 langchain-openai-0.2.11 langgraph-0.2.56 langgraph-checkpoint-2.0.8 langgraph-sdk-0.1.43 marshmallow-3.23.1 mypy-extensions-1.0.0 pydantic-settings-2.6.1 python-dotenv-1.0.1 tavily-python-0.5.0 tiktoken-0.8.0 typing-inspect-0.9.0\n"
          ]
        }
      ],
      "source": [
        "!pip install langgraph langchain-community langchain-openai tavily-python \"httpx==0.27.2\""
      ]
    },
    {
      "cell_type": "code",
      "execution_count": null,
      "id": "ce438281-08d5-4804-afe7-e4089f7b016b",
      "metadata": {
        "id": "ce438281-08d5-4804-afe7-e4089f7b016b"
      },
      "outputs": [],
      "source": [
        "import os\n",
        "# TAVILY와 OpenAI API 키를 환경 변수로 설정\n",
        "os.environ[\"TAVILY_API_KEY\"] = \"tvly\"\n",
        "os.environ[\"OPENAI_API_KEY\"] = \"sk\""
      ]
    },
    {
      "cell_type": "code",
      "execution_count": null,
      "id": "25b9ec62-0675-4715-811c-9b32c635b22f",
      "metadata": {
        "id": "25b9ec62-0675-4715-811c-9b32c635b22f"
      },
      "outputs": [],
      "source": [
        "from langchain_community.tools.tavily_search import TavilySearchResults\n",
        "\n",
        "tools = [TavilySearchResults(max_results=3)] # 검색 결과의 최대 개수를 3개로 설정"
      ]
    },
    {
      "cell_type": "code",
      "execution_count": null,
      "id": "72d233ca-1dbf-4b43-b680-b3bf39e3691f",
      "metadata": {
        "id": "72d233ca-1dbf-4b43-b680-b3bf39e3691f"
      },
      "outputs": [],
      "source": [
        "from langchain import hub\n",
        "from langchain_openai import ChatOpenAI\n",
        "from langgraph.prebuilt import create_react_agent # 랭그래프에서 제공하는 함수로, ReAct(Reasoning + Acting) 에이전트를 생성\n",
        "\n",
        "llm = ChatOpenAI(model=\"gpt-4o\") # LLM 초기화\n",
        "agent_executor = create_react_agent(llm, tools) # ReAct 에이전트 생성"
      ]
    },
    {
      "cell_type": "code",
      "execution_count": null,
      "id": "746e697a-dec4-4342-a814-9b3456828169",
      "metadata": {
        "colab": {
          "base_uri": "https://localhost:8080/"
        },
        "id": "746e697a-dec4-4342-a814-9b3456828169",
        "outputId": "0b3167ed-598e-4088-edeb-edd4eaceef4b"
      },
      "outputs": [
        {
          "output_type": "execute_result",
          "data": {
            "text/plain": [
              "{'messages': [HumanMessage(content='날씨와 아이스크림 판매량 관계는?', additional_kwargs={}, response_metadata={}, id='ec0fd444-99d1-49fb-bb62-0009b15e3088'),\n",
              "  AIMessage(content='날씨와 아이스크림 판매량 사이에는 밀접한 관계가 있습니다. 일반적으로 다음과 같은 경향이 관찰됩니다:\\n\\n1. **기온 상승**: 날씨가 따뜻하거나 더울수록 아이스크림 판매량이 증가하는 경향이 있습니다. 더운 날씨에는 시원한 음식을 찾는 사람들이 많아지기 때문입니다.\\n\\n2. **햇빛과 일조량**: 햇볕이 잘 드는 맑은 날씨일수록 사람들이 야외 활동을 많이 하게 되고, 그 결과 아이스크림을 구매할 확률이 높아집니다.\\n\\n3. **습도**: 높은 습도는 체감 온도를 올려 더위를 더 느끼게 할 수 있으며, 이는 아이스크림과 같은 시원한 간식을 찾게 만드는 요소가 될 수 있습니다.\\n\\n4. **계절**: 여름철에는 전반적으로 아이스크림 판매량이 가장 높습니다. 반면, 겨울철에는 판매량이 감소하는 경향이 있습니다.\\n\\n이러한 관찰은 일반적인 경향을 나타내며, 특정 지역이나 상황에 따라 다를 수 있습니다. 마케팅이나 판매 전략 수립 시 이러한 날씨 요인을 고려하여 계획을 세우는 것이 중요합니다.', additional_kwargs={'refusal': None}, response_metadata={'token_usage': {'completion_tokens': 273, 'prompt_tokens': 90, 'total_tokens': 363, 'completion_tokens_details': {'accepted_prediction_tokens': 0, 'audio_tokens': 0, 'reasoning_tokens': 0, 'rejected_prediction_tokens': 0}, 'prompt_tokens_details': {'audio_tokens': 0, 'cached_tokens': 0}}, 'model_name': 'gpt-4o-2024-08-06', 'system_fingerprint': 'fp_c7ca0ebaca', 'finish_reason': 'stop', 'logprobs': None}, id='run-b949aa6b-4c93-4817-a4c7-3099b02b002f-0', usage_metadata={'input_tokens': 90, 'output_tokens': 273, 'total_tokens': 363, 'input_token_details': {'audio': 0, 'cache_read': 0}, 'output_token_details': {'audio': 0, 'reasoning': 0}})]}"
            ]
          },
          "metadata": {},
          "execution_count": 5
        }
      ],
      "source": [
        "agent_executor.invoke({\"messages\": [(\"user\", \"날씨와 아이스크림 판매량 관계는?\")]}) # 에이전트 실행"
      ]
    },
    {
      "cell_type": "code",
      "execution_count": null,
      "id": "8eeeaeea-8f10-4fbe-8e24-4e1a2381a009",
      "metadata": {
        "id": "8eeeaeea-8f10-4fbe-8e24-4e1a2381a009"
      },
      "outputs": [],
      "source": [
        "import operator # 함수형 프로그래밍을 지원하기 위한 모듈\n",
        "from typing import Annotated, List, Tuple\n",
        "from typing_extensions import TypedDict\n",
        "\n",
        "class PlanExecute(TypedDict): # 데이터 구조 정의\n",
        "    input: str # 사용자 입력 데이터\n",
        "    plan: List[str] # 작업을 수행하기 위한 단계별 계획\n",
        "    past_steps: Annotated[List[Tuple], operator.add] # 과거에 수행된 작업(단계)의 기록\n",
        "    response: str # 최종 결과나 응답 데이터"
      ]
    },
    {
      "cell_type": "code",
      "execution_count": null,
      "id": "4a88626d-6dfd-4488-87f0-a9a0dd6da44c",
      "metadata": {
        "id": "4a88626d-6dfd-4488-87f0-a9a0dd6da44c"
      },
      "outputs": [],
      "source": [
        "from pydantic import BaseModel, Field\n",
        "# pydantic: 데이터를 구조화하고 유효성을 검사하는 라이브러리\n",
        "# BaseModel: 데이터 모델을 정의하고, 데이터의 유효성을 검사하는 데 사용\n",
        "# Field: 모델의 각 필드(속성)에 대해 추가적인 설명, 기본값, 제약 조건 등을 설정\n",
        "\n",
        "class Plan(BaseModel):\n",
        "    steps: List[str] = Field(\n",
        "        description=\"따라야 할 다양한 단계를 정렬된 순서로 작성하세요\"\n",
        "    ) # 계획을 구성하는 여러 단계의 필드 정의"
      ]
    },
    {
      "cell_type": "code",
      "execution_count": null,
      "id": "ec7b1867-1ea3-4df3-9a98-992a1c32ec49",
      "metadata": {
        "id": "ec7b1867-1ea3-4df3-9a98-992a1c32ec49"
      },
      "outputs": [],
      "source": [
        "from langchain_core.prompts import ChatPromptTemplate\n",
        "\n",
        "first_prompt = ChatPromptTemplate.from_messages(\n",
        "    [\n",
        "        (\n",
        "            \"system\",\n",
        "            \"\"\"주어진 목표를 위해 간단한 단계별 계획을 세우세요. \\\n",
        "이 계획은 정확한 답을 도출할 수 있는 단계별 작업을 포함해야 합니다. \\\n",
        "마지막 단계의 결과는 최종 답이 되어야 합니다. 각 단계에 필요한 모든 정보가 포함되어야 합니다.\\\n",
        "답변은 한글로 알려주세요\"\"\",\n",
        "        ),\n",
        "        (\"placeholder\", \"{messages}\"),\n",
        "    ]\n",
        ") # 대화형 프롬프트 템플릿 생성\n",
        "\n",
        "first_planner = first_prompt | ChatOpenAI(\n",
        "    model=\"gpt-4o\", temperature=0\n",
        ").with_structured_output(Plan) # first_prompt(프롬프트 템플릿)과 GPT4o 모델을 결합하여 프롬프트를 기반으로 응답을 생성"
      ]
    },
    {
      "cell_type": "code",
      "execution_count": null,
      "id": "67ce37b7-e089-479b-bcb8-c3f5d9874613",
      "metadata": {
        "colab": {
          "base_uri": "https://localhost:8080/"
        },
        "id": "67ce37b7-e089-479b-bcb8-c3f5d9874613",
        "outputId": "3a95e996-b97b-4db7-f81e-7b117471b29f"
      },
      "outputs": [
        {
          "output_type": "execute_result",
          "data": {
            "text/plain": [
              "Plan(steps=['단백질의 기본적인 역할과 기능을 이해한다.', '단백질이 체중 감량에 어떻게 기여하는지 조사한다.', '단백질이 포만감에 미치는 영향을 연구한다.', '단백질 섭취가 근육량 유지에 어떻게 도움을 주는지 분석한다.', '단백질이 신진대사에 미치는 영향을 검토한다.', '단백질 섭취의 적정량과 과다 섭취의 부작용을 조사한다.', '단백질이 다이어트에 미치는 전반적인 효과를 종합하여 결론을 내린다.'])"
            ]
          },
          "metadata": {},
          "execution_count": 9
        }
      ],
      "source": [
        "first_planner.invoke(\n",
        "    {\n",
        "        \"messages\": [\n",
        "            (\"user\", \"단백질이 다이어트에 미치는 효과는?\")\n",
        "        ]\n",
        "    }\n",
        ")"
      ]
    },
    {
      "cell_type": "code",
      "execution_count": null,
      "id": "ec2d12cc-016a-44d1-aa08-4c5ce1e8fe2a",
      "metadata": {
        "id": "ec2d12cc-016a-44d1-aa08-4c5ce1e8fe2a"
      },
      "outputs": [],
      "source": [
        "from typing import Union # 타입 힌트를 정의할 때 사용\n",
        "\n",
        "class Response(BaseModel): # 데이터 모델 정의\n",
        "    \"\"\"사용자에게 응답하세요\"\"\"\n",
        "    response: str # 사용자에게 전달할 최종 응답(문자열)\n",
        "\n",
        "class Act(BaseModel):\n",
        "    \"\"\"수행할 작업\"\"\"\n",
        "\n",
        "    action: Union[Response, Plan] = Field(\n",
        "        description=\"사용자에게 응답하려면, 'Response'을 사용하세요.\"\n",
        "        \"답을 얻기 위해 도구를 추가로 사용해야 한다면, 'Plan'을 사용하세요.\"\n",
        "    ) # 재 작업 상태를 나타내며, 사용자 응답 또는 새로운 계획 중 하나를 선택.\n",
        "\n",
        "edited_prompt = ChatPromptTemplate.from_template(\n",
        "    \"\"\"주어진 목표를 위해 간단한 단계별 계획을 세우세요.\\\n",
        "이 계획은 정확한 답을 도출할 수 있는 개별 작업이 포함되어야 합니다. \\\n",
        "마지막 단계의 결과는 최종 답이어야 합니다. 각 단계에 필요한 모든 정보가 포함하도록 하세요..\n",
        "\n",
        "당신의 목표는 이것입니다:\n",
        "{input}\n",
        "\n",
        "당신의 계획은 이것입니다:\n",
        "{plan}\n",
        "\n",
        "당신은 현재 다음의 단계를 완료했습니다:\n",
        "{past_steps}\n",
        "\n",
        "계획을 업데이트하세요. 더 이상 필요한 단계가 없고 사용자에게 응답할 수 있다면, 바로 응답하고. 그렇지 않다면, 계획을 재작성하세요. \"\"\"\n",
        ") # 프롬프트 템플릿 정의\n",
        "\n",
        "edited_planner = edited_prompt | ChatOpenAI(\n",
        "    model=\"gpt-4o\", temperature=0\n",
        ").with_structured_output(Act) # 에이전트 생성하되 모델의 출력 결과를 Act 데이터 모델의 형식에 맞게 반환"
      ]
    },
    {
      "cell_type": "code",
      "execution_count": null,
      "id": "6c8e0dad-bcea-4c9a-8922-0d820892e2d0",
      "metadata": {
        "id": "6c8e0dad-bcea-4c9a-8922-0d820892e2d0"
      },
      "outputs": [],
      "source": [
        "from typing import Literal # 특정 값 집합으로 타입을 제한하는 타입 힌트\n",
        "from langgraph.graph import END # 랭그래프에서 워크플로우 종료를 나타내는 상수\n",
        "\n",
        "async def execute_step(state: PlanExecute): # 계획의 첫 번째 단계를 실행하고 결과를 저장하는 함수 정의\n",
        "    plan = state[\"plan\"]\n",
        "    plan_str = \"\\n\".join(f\"{i+1}. {step}\" for i, step in enumerate(plan))\n",
        "    task = plan[0]\n",
        "    task_formatted = f\"\"\"다음 계획에 대해:\n",
        "{plan_str}\\n\\n당신은 단계를 실행하는 임무를 맡았습니다. {1}, {task}.\"\"\"\n",
        "    agent_response = await agent_executor.ainvoke(\n",
        "        {\"messages\": [(\"user\", task_formatted)]}\n",
        "    )\n",
        "    return {\n",
        "        \"past_steps\": [(task, agent_response[\"messages\"][-1].content)],\n",
        "    }\n",
        "\n",
        "\n",
        "async def first_plan_step(state: PlanExecute): # 사용자 입력에 기반하여 새로운 단계별 계획을 생성하는 함수 정의\n",
        "    plan = await first_planner.ainvoke({\"messages\": [(\"user\", state[\"input\"])]})\n",
        "    return {\"plan\": plan.steps}\n",
        "\n",
        "\n",
        "async def edited_plan_step(state: PlanExecute): # 현재 상태를 기반으로 계획을 업데이트하거나 응답 생성하는 함수 정의\n",
        "    output = await edited_planner.ainvoke(state)\n",
        "    if isinstance(output.action, Response):\n",
        "        return {\"response\": output.action.response}\n",
        "    else:\n",
        "        return {\"plan\": output.action.steps}\n",
        "\n",
        "\n",
        "def should_end(state: PlanExecute): # 워크플로우 종료 여부를 결정하는 함수 정의\n",
        "    if \"response\" in state and state[\"response\"]:\n",
        "        return END\n",
        "    else:\n",
        "        return \"agent\""
      ]
    },
    {
      "cell_type": "code",
      "execution_count": null,
      "id": "e954cea0-5ccc-46c2-a27b-f5b7185b597d",
      "metadata": {
        "id": "e954cea0-5ccc-46c2-a27b-f5b7185b597d"
      },
      "outputs": [],
      "source": [
        "from langgraph.graph import StateGraph, START # START는 워크플로우의 시작 상태를 나타내는 상수입니다\n",
        "\n",
        "workflow = StateGraph(PlanExecute) # 워크플로우 정의\n",
        "\n",
        "workflow.add_node(\"planner\", first_plan_step) # 노드 추가, plan_step 함수를 실행하여 사용자 입력을 기반으로 계획 생성\n",
        "workflow.add_node(\"agent\", execute_step) # 노드 추가, execute_step 함수를 실행하여 계획의 단계를 실행하고 결과 기록\n",
        "workflow.add_node(\"replan\", edited_plan_step) # 노드 추가, replan_step 함수를 실행하여 계획을 업데이트하거나 응답 생성.\n",
        "workflow.add_edge(START, \"planner\") # 워크플로우가 시작되면 \"planner\" 노드로 이동하여 계획 생성\n",
        "workflow.add_edge(\"planner\", \"agent\") # 계획 생성 후, \"agent\" 노드로 이동하여 첫 번째 단계를 실행\n",
        "workflow.add_edge(\"agent\", \"replan\") # 단계를 실행한 후, \"replan\" 노드로 이동하여 계획 업데이트 또는 응답 생성\n",
        "\n",
        "workflow.add_conditional_edges(\n",
        "    \"replan\",\n",
        "    should_end,\n",
        "    [\"agent\", END],\n",
        ") # \"replan\" 노드에서 조건에 따라 다음 상태를 결정\n",
        "\n",
        "graph = workflow.compile() # 정의된 워크플로우를 실행 가능한 형태로 변환"
      ]
    },
    {
      "cell_type": "code",
      "execution_count": null,
      "id": "7363e528",
      "metadata": {
        "colab": {
          "base_uri": "https://localhost:8080/",
          "height": 697
        },
        "id": "7363e528",
        "outputId": "7e61888d-5b75-4398-fd71-caecb228edb2"
      },
      "outputs": [
        {
          "output_type": "display_data",
          "data": {
            "image/png": "[encoded data removed]",
            "text/plain": [
              "<IPython.core.display.Image object>"
            ]
          },
          "metadata": {}
        }
      ],
      "source": [
        "from IPython.display import Image, display\n",
        "\n",
        "display(Image(graph.get_graph(xray=True).draw_mermaid_png())) # 워크플로우 가시화"
      ]
    },
    {
      "cell_type": "code",
      "execution_count": null,
      "id": "b8ac1f67-e87a-427c-b4f7-44351295b788",
      "metadata": {
        "colab": {
          "base_uri": "https://localhost:8080/"
        },
        "id": "b8ac1f67-e87a-427c-b4f7-44351295b788",
        "outputId": "c6fdeccf-b237-49ed-d4d6-03ad7332b8a1"
      },
      "outputs": [
        {
          "output_type": "stream",
          "name": "stdout",
          "text": [
            "{'plan': ['일본의 계절별 기후를 조사한다.', '온천 여행에 적합한 기후 조건을 정의한다.', '각 계절의 기후가 온천 여행에 적합한지 평가한다.', '가장 적합한 계절을 선택한다.']}\n",
            "{'past_steps': [('일본의 계절별 기후를 조사한다.', '일본의 계절별 기후에 대한 개요는 다음과 같습니다:\\n\\n1. **북부 일본:** 여름에는 따뜻하고 겨울에는 매우 추우며, 일본해 쪽과 산악 지역에는 많은 눈이 내립니다.\\n\\n2. **동부 일본:** 여름은 덥고 습하며, 겨울에는 매우 춥고 일본해 쪽과 산악 지역에 많은 눈이 내립니다.\\n\\n3. **서부 일본:** 여름은 매우 덥고 습하며, 겨울은 비교적 온화합니다.\\n\\n4. **남부 일본 및 오키나와:** 거의 열대 기후로, 겨울에 평균 기온이 17.5°C입니다. 이 지역은 여름에 덥고 습하며, 겨울은 비교적 온화합니다.\\n\\n5. **강수량:** 여름에 최대 강수량을 기록하며, 일본해 쪽에서는 늦가을과 초겨울에 강수량이 많습니다. 연간 강수량은 1,000mm에서 2,500mm로 다양하며, 가장 습한 지역에서는 4,000mm에서 10,000mm까지 기록됩니다.\\n\\n이 정보는 일본의 다양한 기후 지역을 이해하는 데 도움이 됩니다. 이제 온천 여행에 적합한 기후 조건을 정의하는 다음 단계로 넘어가겠습니다.')]}\n",
            "{'plan': ['온천 여행에 적합한 기후 조건을 정의한다.', '각 계절의 기후가 온천 여행에 적합한지 평가한다.', '가장 적합한 계절을 선택한다.']}\n",
            "{'past_steps': [('온천 여행에 적합한 기후 조건을 정의한다.', '온천 여행에 적합한 기후 조건을 정의하기 위해 고려할 요소는 다음과 같습니다:\\n\\n1. **쾌적한 외부 기온**: 너무 덥거나 추운 날씨는 온천을 즐기기에 불편할 수 있습니다. 일반적으로 외부 기온이 10°C에서 25°C 사이인 날씨가 가장 이상적입니다.\\n\\n2. **습도**: 높은 습도는 불쾌감을 줄 수 있습니다. 적당한 습도가 온천을 즐기기에 좋습니다.\\n\\n3. **강수량**: 과도한 비나 눈은 온천 여행을 방해할 수 있습니다. 강수량이 적고 날씨가 맑은 날이 온천을 즐기기에 좋습니다.\\n\\n4. **바람**: 강한 바람은 온천욕을 불편하게 할 수 있습니다. 바람이 강하지 않은 날씨가 적합합니다.\\n\\n5. **자연 경관**: 계절에 따라 변화하는 자연 경관도 온천 여행의 즐거움을 더할 수 있습니다. 예를 들어, 가을의 단풍이나 겨울의 눈 덮인 풍경은 특별한 경험을 제공합니다.\\n\\n이러한 조건을 바탕으로 각 계절의 기후가 온천 여행에 적합한지 평가할 수 있습니다. 다음 단계로 진행하겠습니다.')]}\n",
            "{'plan': ['각 계절의 기후가 온천 여행에 적합한지 평가한다.', '가장 적합한 계절을 선택한다.']}\n",
            "{'past_steps': [('각 계절의 기후가 온천 여행에 적합한지 평가한다.', '온천 여행에 적합한 계절을 평가하려면 각 계절의 기후 특성을 고려해야 합니다. 일반적으로 온천 여행은 쾌적한 기온과 적당한 강수량을 가진 시기에 가장 적합합니다. 각 계절의 일반적인 기후 특성을 간단히 평가해보겠습니다:\\n\\n1. **봄 (3월 ~ 5월)**: \\n   - 장점: 날씨가 따뜻해지기 시작하며 꽃이 피어나는 시기입니다. 기온이 온화하여 야외 활동에 적합합니다.\\n   - 단점: 지역에 따라 꽃샘추위가 있을 수 있으며, 봄철 황사 또는 미세먼지가 발생할 수 있습니다.\\n\\n2. **여름 (6월 ~ 8월)**:\\n   - 장점: 날씨가 덥고 일조량이 많아 물놀이와 야외 활동을 즐기기에 좋습니다.\\n   - 단점: 너무 더운 날씨는 온천의 뜨거운 물을 즐기기에 부담스러울 수 있으며, 장마철에는 강수량이 많아질 수 있습니다.\\n\\n3. **가을 (9월 ~ 11월)**:\\n   - 장점: 선선한 날씨와 아름다운 단풍으로 인해 야외 활동과 온천을 즐기기에 최적입니다.\\n   - 단점: 아침과 저녁으로 기온 변화가 클 수 있습니다.\\n\\n4. **겨울 (12월 ~ 2월)**:\\n   - 장점: 추운 날씨에 따뜻한 온천을 즐기는 것이 특히 매력적입니다. 눈이 내리는 지역에서는 설경을 감상할 수 있습니다.\\n   - 단점: 너무 추운 날씨는 이동에 불편함을 줄 수 있으며, 일부 지역에서는 폭설이 내릴 수 있습니다.\\n\\n이 정보를 바탕으로 각 계절이 온천 여행에 얼마나 적합한지 평가할 수 있습니다. 개인의 취향과 여행 목적에 따라 적합한 계절이 달라질 수 있습니다.')]}\n",
            "{'response': '가장 적합한 계절을 선택하기 위해 각 계절의 장단점을 고려한 결과, 가을(9월 ~ 11월)이 일본 온천 여행에 가장 적합한 계절로 보입니다. 가을은 선선한 날씨와 아름다운 단풍으로 인해 야외 활동과 온천을 즐기기에 최적의 조건을 제공합니다. 따라서 일본 온천 여행을 계획하신다면 가을을 추천드립니다.'}\n"
          ]
        }
      ],
      "source": [
        "config = {\"recursion_limit\": 10} # 최대 10번의 워크플로우의 재귀 호출 허용\n",
        "inputs = {\"input\": \"일본 온천 여행하기 좋은 계절은?\"}\n",
        "async for event in graph.astream(inputs, config=config): # 워크플로우를 비동기적으로 실행\n",
        "    for k, v in event.items(): # 워크플로우의 현재 상태(\"planner\", \"agent\", \"replan\") 및 결과를 나타내는 딕셔너리\n",
        "        if k != \"__end__\": # 상태가 \"__end__\"이 아닐 경우, 출력 데이터를 콘솔에 출력\n",
        "            print(v)"
      ]
    }
  ],
  "metadata": {
    "kernelspec": {
      "display_name": "Python 3 (ipykernel)",
      "language": "python",
      "name": "python3"
    },
    "language_info": {
      "codemirror_mode": {
        "name": "ipython",
        "version": 3
      },
      "file_extension": ".py",
      "mimetype": "text/x-python",
      "name": "python",
      "nbconvert_exporter": "python",
      "pygments_lexer": "ipython3",
      "version": "3.11.9"
    },
    "colab": {
      "provenance": []
    }
  },
  "nbformat": 4,
  "nbformat_minor": 5
}